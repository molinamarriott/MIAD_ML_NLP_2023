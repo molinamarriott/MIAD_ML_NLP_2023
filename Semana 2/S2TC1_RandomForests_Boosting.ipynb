{
 "cells": [
  {
   "cell_type": "markdown",
   "metadata": {},
   "source": [
    "![image info](https://raw.githubusercontent.com/albahnsen/MIAD_ML_and_NLP/main/images/banner_1.png)"
   ]
  },
  {
   "cell_type": "markdown",
   "metadata": {},
   "source": [
    "# Taller: Construcción e implementación de modelos Bagging, Random Forest y XGBoost\n",
    "\n",
    "En este taller podrán poner en práctica sus conocimientos sobre la construcción e implementación de modelos de Bagging, Random Forest y XGBoost. El taller está constituido por 8 puntos, en los cuales deberan seguir las intrucciones de cada numeral para su desarrollo."
   ]
  },
  {
   "cell_type": "markdown",
   "metadata": {},
   "source": [
    "## Datos predicción precio de automóviles\n",
    "\n",
    "En este taller se usará el conjunto de datos de Car Listings de Kaggle donde cada observación representa el precio de un automóvil teniendo en cuenta distintas variables como año, marca, modelo, entre otras. El objetivo es predecir el precio del automóvil. Para más detalles puede visitar el siguiente enlace: [datos](https://www.kaggle.com/jpayne/852k-used-car-listings)."
   ]
  },
  {
   "cell_type": "code",
   "execution_count": 2,
   "metadata": {},
   "outputs": [],
   "source": [
    "# Importación de librerías\n",
    "import pandas as pd\n",
    "import numpy as np\n",
    "import warnings\n",
    "from sklearn.tree import DecisionTreeRegressor\n",
    "warnings.filterwarnings('ignore')\n",
    "%matplotlib inline\n",
    "import pandas as pd\n",
    "from sklearn.model_selection import train_test_split\n",
    "from sklearn.metrics import mean_squared_error, mean_absolute_error"
   ]
  },
  {
   "cell_type": "code",
   "execution_count": 3,
   "metadata": {},
   "outputs": [
    {
     "data": {
      "text/html": [
       "<div>\n",
       "<style scoped>\n",
       "    .dataframe tbody tr th:only-of-type {\n",
       "        vertical-align: middle;\n",
       "    }\n",
       "\n",
       "    .dataframe tbody tr th {\n",
       "        vertical-align: top;\n",
       "    }\n",
       "\n",
       "    .dataframe thead th {\n",
       "        text-align: right;\n",
       "    }\n",
       "</style>\n",
       "<table border=\"1\" class=\"dataframe\">\n",
       "  <thead>\n",
       "    <tr style=\"text-align: right;\">\n",
       "      <th></th>\n",
       "      <th>Price</th>\n",
       "      <th>Year</th>\n",
       "      <th>Mileage</th>\n",
       "      <th>M_Camry</th>\n",
       "      <th>M_Camry4dr</th>\n",
       "      <th>M_CamryBase</th>\n",
       "      <th>M_CamryL</th>\n",
       "      <th>M_CamryLE</th>\n",
       "      <th>M_CamrySE</th>\n",
       "      <th>M_CamryXLE</th>\n",
       "    </tr>\n",
       "  </thead>\n",
       "  <tbody>\n",
       "    <tr>\n",
       "      <th>7</th>\n",
       "      <td>21995</td>\n",
       "      <td>2014</td>\n",
       "      <td>6480</td>\n",
       "      <td>0</td>\n",
       "      <td>0</td>\n",
       "      <td>0</td>\n",
       "      <td>1</td>\n",
       "      <td>0</td>\n",
       "      <td>0</td>\n",
       "      <td>0</td>\n",
       "    </tr>\n",
       "    <tr>\n",
       "      <th>11</th>\n",
       "      <td>13995</td>\n",
       "      <td>2014</td>\n",
       "      <td>39972</td>\n",
       "      <td>0</td>\n",
       "      <td>0</td>\n",
       "      <td>0</td>\n",
       "      <td>0</td>\n",
       "      <td>1</td>\n",
       "      <td>0</td>\n",
       "      <td>0</td>\n",
       "    </tr>\n",
       "    <tr>\n",
       "      <th>167</th>\n",
       "      <td>17941</td>\n",
       "      <td>2016</td>\n",
       "      <td>18989</td>\n",
       "      <td>0</td>\n",
       "      <td>0</td>\n",
       "      <td>0</td>\n",
       "      <td>0</td>\n",
       "      <td>0</td>\n",
       "      <td>1</td>\n",
       "      <td>0</td>\n",
       "    </tr>\n",
       "    <tr>\n",
       "      <th>225</th>\n",
       "      <td>12493</td>\n",
       "      <td>2014</td>\n",
       "      <td>51330</td>\n",
       "      <td>0</td>\n",
       "      <td>0</td>\n",
       "      <td>0</td>\n",
       "      <td>1</td>\n",
       "      <td>0</td>\n",
       "      <td>0</td>\n",
       "      <td>0</td>\n",
       "    </tr>\n",
       "    <tr>\n",
       "      <th>270</th>\n",
       "      <td>7994</td>\n",
       "      <td>2007</td>\n",
       "      <td>116065</td>\n",
       "      <td>0</td>\n",
       "      <td>1</td>\n",
       "      <td>0</td>\n",
       "      <td>0</td>\n",
       "      <td>0</td>\n",
       "      <td>0</td>\n",
       "      <td>0</td>\n",
       "    </tr>\n",
       "  </tbody>\n",
       "</table>\n",
       "</div>"
      ],
      "text/plain": [
       "     Price  Year  Mileage  M_Camry  M_Camry4dr  M_CamryBase  M_CamryL  \\\n",
       "7    21995  2014     6480        0           0            0         1   \n",
       "11   13995  2014    39972        0           0            0         0   \n",
       "167  17941  2016    18989        0           0            0         0   \n",
       "225  12493  2014    51330        0           0            0         1   \n",
       "270   7994  2007   116065        0           1            0         0   \n",
       "\n",
       "     M_CamryLE  M_CamrySE  M_CamryXLE  \n",
       "7            0          0           0  \n",
       "11           1          0           0  \n",
       "167          0          1           0  \n",
       "225          0          0           0  \n",
       "270          0          0           0  "
      ]
     },
     "execution_count": 3,
     "metadata": {},
     "output_type": "execute_result"
    }
   ],
   "source": [
    "# Lectura de la información de archivo .csv\n",
    "data = pd.read_csv('https://raw.githubusercontent.com/albahnsen/MIAD_ML_and_NLP/main/datasets/dataTrain_carListings.zip')\n",
    "\n",
    "# Preprocesamiento de datos para el taller\n",
    "data = data.loc[data['Model'].str.contains('Camry')].drop(['Make', 'State'], axis=1)\n",
    "data = data.join(pd.get_dummies(data['Model'], prefix='M'))\n",
    "data = data.drop(['Model'], axis=1)\n",
    "data = data.astype('int')\n",
    "\n",
    "# Visualización dataset\n",
    "data.head()"
   ]
  },
  {
   "cell_type": "code",
   "execution_count": 4,
   "metadata": {},
   "outputs": [],
   "source": [
    "# Separación de variables predictoras (X) y variable de interés (y)\n",
    "y = data['Price']\n",
    "X = data.drop(['Price'], axis=1)"
   ]
  },
  {
   "cell_type": "code",
   "execution_count": 5,
   "metadata": {},
   "outputs": [],
   "source": [
    "# Separación de datos en set de entrenamiento y test\n",
    "from sklearn.model_selection import train_test_split\n",
    "X_train, X_test, y_train, y_test = train_test_split(X, y, test_size=0.33, random_state=42)"
   ]
  },
  {
   "cell_type": "markdown",
   "metadata": {},
   "source": [
    "### Punto 1 - Árbol de decisión manual\n",
    "\n",
    "En la celda 1 creen un árbol de decisión **manualmente**  que considere los set de entrenamiento y test definidos anteriormente y presenten el RMSE y MAE del modelo en el set de test."
   ]
  },
  {
   "cell_type": "code",
   "execution_count": 6,
   "metadata": {},
   "outputs": [
    {
     "name": "stdout",
     "output_type": "stream",
     "text": [
      "RMSE: 1921.0068326673736\n",
      "MAE: 1445.7898383371823\n"
     ]
    }
   ],
   "source": [
    "# Celda 1\n",
    "import numpy as np\n",
    "\n",
    "# Definición de la función mse para calular el mse \n",
    "def get_mse(X_col, y, split):\n",
    "    \n",
    "    filter_l = X_col < split\n",
    "    y_l = y.loc[filter_l]\n",
    "    y_r = y.loc[~filter_l]\n",
    "    \n",
    "    n_l = y_l.shape[0]\n",
    "    n_r = y_r.shape[0]\n",
    "\n",
    "    #En caso no haya datos en alguno de los nodos, saco el mse solo del que si tiene\n",
    "    mse_l = 0\n",
    "    mse_r = 0\n",
    "    if n_l != 0:\n",
    "        mse_l = np.mean((y_l - np.mean(y_l)) ** 2)\n",
    "    if n_r != 0:\n",
    "        mse_r = np.mean((y_r - np.mean(y_r)) ** 2)\n",
    "    \n",
    "    mse = (n_l / (n_l + n_r) * mse_l) + (n_r / (n_l + n_r) * mse_r)\n",
    "    \n",
    "    return mse\n",
    "\n",
    "# Definición de la función best_split para calcular cuál es la mejor variable y punto de corte para hacer la bifurcación del árbol\n",
    "def best_split(X, y, num_pct=10):\n",
    "    \n",
    "    features = range(X.shape[1])\n",
    "    \n",
    "    best_split = [0, 0, -1]  # j, split, mse\n",
    "    \n",
    "    # Para todas las varibles \n",
    "    for j in features:\n",
    "        \n",
    "        splits = np.percentile(X.iloc[:, j], np.arange(0, 100, 100.0 / (num_pct+1)).tolist())\n",
    "        splits = np.unique(splits)[1:]\n",
    "        \n",
    "        #En caso haya mas de una particion\n",
    "        if len(splits) > 0:\n",
    "            # Para cada partición\n",
    "            for split in splits:\n",
    "                mse = get_mse(X.iloc[:, j], y, split)\n",
    "                if best_split[2] == -1:\n",
    "                    best_split = [j, split, mse]\n",
    "                elif mse < best_split[2]:\n",
    "                    best_split = [j, split, mse]\n",
    "        \n",
    "        #Si solo hay una particion, solo le saco el mse\n",
    "        else:\n",
    "            splits = np.percentile(X.iloc[:, j], np.arange(0, 100, 100.0 / (num_pct+1)).tolist())\n",
    "            split = np.unique(splits)[0]\n",
    "            mse = get_mse(X.iloc[:, j], y, split)\n",
    "            \n",
    "            if best_split[2] == -1:\n",
    "                best_split = [j, split, mse]\n",
    "            elif mse < best_split[2]:\n",
    "                best_split = [j, split, mse]\n",
    "            \n",
    "    \n",
    "    return best_split\n",
    "\n",
    "# Definición de la función tree_grow para hacer un crecimiento recursivo del árbol\n",
    "def tree_grow(X, y, level=0, min_mse=0, max_depth=None, num_pct=10):\n",
    "    \n",
    "    # Si solo es una observación\n",
    "    if X.shape[0] == 1:\n",
    "        tree = dict(y_pred=y.iloc[:1].values[0], level=level, split=-1, n_samples=1, mse=0)\n",
    "        return tree\n",
    "    \n",
    "    # Calcular la mejor división\n",
    "    j, split, mse = best_split(X, y, num_pct)\n",
    "    \n",
    "    # Guardar el árbol y estimar la predicción\n",
    "    y_pred = int(y.mean()) \n",
    "    \n",
    "    tree = dict(y_pred=y_pred, level=level, split=-1, n_samples=X.shape[0], mse=mse)\n",
    "    # Revisar el criterio de parada \n",
    "    if mse < min_mse:\n",
    "        return tree\n",
    "    if max_depth is not None:\n",
    "        if level >= max_depth:\n",
    "            return tree   \n",
    "    \n",
    "    # Continuar creando la partición\n",
    "    filter_l = X.iloc[:, j] < split\n",
    "    X_l, y_l = X.loc[filter_l], y.loc[filter_l]\n",
    "    X_r, y_r = X.loc[~filter_l], y.loc[~filter_l]\n",
    "\n",
    "    # En caso de que hayan datos, busco la siguiente iteración para cada partición\n",
    "    if len(X_l) > 0 and len(X_r) > 0:\n",
    "        tree['split'] = [j, split]\n",
    "        tree['sl'] = tree_grow(X_l, y_l, level + 1, min_mse=min_mse, max_depth=max_depth, num_pct=num_pct)\n",
    "        tree['sr'] = tree_grow(X_r, y_r, level + 1, min_mse=min_mse, max_depth=max_depth, num_pct=num_pct)\n",
    "    \n",
    "    return tree\n",
    "\n",
    "# Definición de la función tree_predict para hacer predicciones según las variables 'X' y el árbol 'tree'\n",
    "def tree_predict(X, tree):\n",
    "    \n",
    "    predicted = np.ones(X.shape[0])\n",
    "\n",
    "    # Revisar si es el nodo final\n",
    "    if tree['split'] == -1:\n",
    "        predicted = predicted * tree['y_pred']\n",
    "            \n",
    "    else:\n",
    "        \n",
    "        j, split = tree['split']\n",
    "        filter_l = (X.iloc[:, j] < split)\n",
    "        X_l = X.loc[filter_l]\n",
    "        X_r = X.loc[~filter_l]\n",
    "\n",
    "        if X_l.shape[0] == 0:  # Si el nodo izquierdo está vacio solo continua con el derecho \n",
    "            predicted[~filter_l] = tree_predict(X_r, tree['sr'])\n",
    "        elif X_r.shape[0] == 0:  #  Si el nodo derecho está vacio solo continua con el izquierdo\n",
    "            predicted[filter_l] = tree_predict(X_l, tree['sl'])\n",
    "        else:\n",
    "            predicted[filter_l] = tree_predict(X_l, tree['sl'])\n",
    "            predicted[~filter_l] = tree_predict(X_r, tree['sr'])\n",
    "\n",
    "    return predicted\n",
    "\n",
    "# Ejecución de función tree_predict\n",
    "arbol_punto1 = tree_grow(X_train, y_train, level=0, min_mse=0, max_depth=3, num_pct=10)\n",
    "y_pred = tree_predict(X_test, arbol_punto1)\n",
    "\n",
    "#Evaluamos el modelo\n",
    "rmse = np.sqrt(np.mean((y_pred - y_test)**2))\n",
    "print(\"RMSE: \"+ str(rmse))\n",
    "mae = np.mean(np.abs(y_pred - y_test))\n",
    "print(\"MAE: \" + str(mae))\n"
   ]
  },
  {
   "cell_type": "markdown",
   "metadata": {},
   "source": [
    "### Punto 2 - Bagging manual\n",
    "\n",
    "En la celda 2 creen un modelo bagging **manualmente** con 10 árboles de regresión y comenten sobre el desempeño del modelo."
   ]
  },
  {
   "cell_type": "code",
   "execution_count": 7,
   "metadata": {},
   "outputs": [
    {
     "name": "stdout",
     "output_type": "stream",
     "text": [
      "RMSE: 1630.301655928008\n",
      "MAE: 1210.8901558891446\n"
     ]
    }
   ],
   "source": [
    "# Celda 2\n",
    "# Creación de 10 muestras de bootstrap \n",
    "np.random.seed(123)\n",
    "n_samples = X_train.shape[0]\n",
    "n_B = 10\n",
    "samples = [np.random.choice(a=n_samples, size=n_samples, replace=True) for _ in range(1, n_B +1 )]\n",
    "\n",
    "# Construcción un árbol de decisión para cada muestra boostrap\n",
    "# DataFrame para guardar las predicciones de cada árbol\n",
    "y_pred = pd.DataFrame(index=X_test.index, columns=[list(range(n_B))])\n",
    "# Entrenamiento de un árbol sobre cada muestra boostrap y predicción sobre los datos de test\n",
    "for i, sample in enumerate(samples):\n",
    "    X_t = X_train.iloc[sample, :]\n",
    "    y_t = y_train.iloc[sample]\n",
    "    arbol_punto2 = tree_grow(X_t, y_t, level=0, num_pct=10, max_depth=5)\n",
    "    y_pred.iloc[:,i] = tree_predict(X_test, arbol_punto2)\n",
    "\n",
    "#Evaluamos el modelo\n",
    "rmse = np.sqrt(np.mean((y_pred.mean(axis=1) - y_test)**2))\n",
    "print(\"RMSE: \"+ str(rmse))\n",
    "mae = np.mean(np.abs(y_pred.mean(axis=1) - y_test))\n",
    "print(\"MAE: \" + str(mae))"
   ]
  },
  {
   "cell_type": "markdown",
   "metadata": {},
   "source": [
    "Podemos observar que el desempeño del Bagging es superior al del árbol único, tal y como era de esperarse. El bagging ayuda a la predicción reduciendo la varianza y por consecuente el error en la estimacióm.\n",
    "\n",
    "El RMSE en la muestra de validación pasó de ser 1921 a 1630, tras el apilamiento por bagging de 10 modelos. Por otro lado, el MAE paso de ser 1445 en el árbol único a 1210 en el bagging.\n",
    "\n",
    "Un MAE de 1210 representa que en promedio la predicción tiene una distancia de 1210 con el valor real de la observación."
   ]
  },
  {
   "cell_type": "markdown",
   "metadata": {},
   "source": [
    "### Punto 3 - Bagging con librería\n",
    "\n",
    "En la celda 3, con la librería sklearn, entrenen un modelo bagging con 10 árboles de regresión y el parámetro `max_features` igual a `log(n_features)` y comenten sobre el desempeño del modelo."
   ]
  },
  {
   "cell_type": "code",
   "execution_count": 8,
   "metadata": {},
   "outputs": [
    {
     "data": {
      "text/plain": [
       "2768.3504147769763"
      ]
     },
     "execution_count": 8,
     "metadata": {},
     "output_type": "execute_result"
    }
   ],
   "source": [
    "# Celda 3\n",
    "\n",
    "# Configuración del modelo Bagging\n",
    "from sklearn.ensemble import BaggingRegressor\n",
    "from sklearn.tree import DecisionTreeRegressor\n",
    "import numpy as np\n",
    "# Ajustando el cálculo de max_features para asegurar que esté dentro del rango permitido\n",
    "n_features = X_train.shape[1]\n",
    "max_features = max(1, min(int(np.log(n_features)), n_features))\n",
    "\n",
    "# Creación del modelo Bagging con DecisionTreeRegressor\n",
    "bagging_model = BaggingRegressor(\n",
    "    base_estimator=DecisionTreeRegressor(),\n",
    "    n_estimators=10,\n",
    "    max_features=max_features,\n",
    "    random_state=42,\n",
    "    bootstrap=True,\n",
    "    oob_score=True\n",
    ")\n",
    "\n",
    "# Entrenamiento del modelo\n",
    "bagging_model.fit(X_train, y_train)\n",
    "\n",
    "# Predicción en el conjunto de prueba\n",
    "y_pred_bagging = bagging_model.predict(X_test)\n",
    "\n",
    "# Cálculo del RMSE\n",
    "rmse_bagging = np.sqrt(mean_squared_error(y_test, y_pred_bagging))\n",
    "\n",
    "rmse_bagging"
   ]
  },
  {
   "cell_type": "code",
   "execution_count": 9,
   "metadata": {},
   "outputs": [
    {
     "data": {
      "text/plain": [
       "2768.3504147769763"
      ]
     },
     "execution_count": 9,
     "metadata": {},
     "output_type": "execute_result"
    }
   ],
   "source": [
    "np.sqrt(mean_squared_error(y_test, y_pred_bagging))"
   ]
  },
  {
   "cell_type": "code",
   "execution_count": 10,
   "metadata": {},
   "outputs": [
    {
     "data": {
      "text/plain": [
       "array([3582, 3454, 1346, ...,  826,  801, 5657])"
      ]
     },
     "execution_count": 10,
     "metadata": {},
     "output_type": "execute_result"
    }
   ],
   "source": [
    "samples[0]"
   ]
  },
  {
   "cell_type": "code",
   "execution_count": 11,
   "metadata": {},
   "outputs": [
    {
     "data": {
      "text/plain": [
       "0.28189093548768407"
      ]
     },
     "execution_count": 11,
     "metadata": {},
     "output_type": "execute_result"
    }
   ],
   "source": [
    "bagging_model.oob_score_"
   ]
  },
  {
   "cell_type": "markdown",
   "metadata": {},
   "source": [
    "Podemos observar que el RMSE del Bagging de librería con un max_features igual al logaritmo de variables tiene un desempeño peor que el bagging previo construido de forma manual.\n",
    "\n",
    "En concreto el modelo de bagging usando librerías tiene un RMSE de 2768.35 y un score OOB de 0.28.\n",
    "\n",
    "Es posible que los patrones de predicción requieran de la combinación de varias variables y al limitar las variables por un max_feature considerablemente más bajo resulte en una peor predicción."
   ]
  },
  {
   "cell_type": "markdown",
   "metadata": {},
   "source": [
    "### Punto 4 - Random forest con librería\n",
    "\n",
    "En la celda 4, usando la librería sklearn entrenen un modelo de Randon Forest para regresión  y comenten sobre el desempeño del modelo."
   ]
  },
  {
   "cell_type": "code",
   "execution_count": 12,
   "metadata": {},
   "outputs": [
    {
     "data": {
      "text/plain": [
       "(1792.6732852279804, 0.7899027930207978)"
      ]
     },
     "execution_count": 12,
     "metadata": {},
     "output_type": "execute_result"
    }
   ],
   "source": [
    "# Celda 4\n",
    "from sklearn.ensemble import RandomForestRegressor\n",
    "\n",
    "# Creación del modelo de Random Forest para regresión\n",
    "random_forest_model = RandomForestRegressor(n_estimators=10, random_state=42,oob_score = True )\n",
    "\n",
    "# Entrenamiento del modelo\n",
    "random_forest_model.fit(X_train, y_train)\n",
    "\n",
    "# Predicción en el conjunto de prueba\n",
    "y_pred_rf = random_forest_model.predict(X_test)\n",
    "\n",
    "# Cálculo del RMSE\n",
    "rmse_rf = np.sqrt(mean_squared_error(y_test, y_pred_rf))\n",
    "\n",
    "# Otras métricas podrían incluir el R^2\n",
    "r2_score_rf = random_forest_model.score(X_test, y_test)\n",
    "\n",
    "rmse_rf, r2_score_rf"
   ]
  },
  {
   "cell_type": "code",
   "execution_count": 13,
   "metadata": {},
   "outputs": [
    {
     "data": {
      "text/plain": [
       "0.6127236124234927"
      ]
     },
     "execution_count": 13,
     "metadata": {},
     "output_type": "execute_result"
    }
   ],
   "source": [
    "random_forest_model.oob_score_"
   ]
  },
  {
   "cell_type": "markdown",
   "metadata": {},
   "source": [
    "Los resultados del Random Forest con librería devuelven un modelo con mejor desempeño que el bagging con librería, pero un desempeño peor que el bagging manual.\n",
    "\n",
    "En concreto se obtuvo un RMSE de 1792, mayor al RMSE del bagging manual que asciende a 1630. Por otro lado, también se puede extrapolar que el R2 del modelo es de alrededor de 0.79, por lo que se puede concluir que el modelo de random forest captura el 79% de la varianza de la variable objetivo."
   ]
  },
  {
   "cell_type": "markdown",
   "metadata": {},
   "source": [
    "### Punto 5 - Calibración de parámetros Random forest\n",
    "\n",
    "En la celda 5, calibren los parámetros max_depth, max_features y n_estimators del modelo de Randon Forest para regresión, comenten sobre el desempeño del modelo y describan cómo cada parámetro afecta el desempeño del modelo."
   ]
  },
  {
   "cell_type": "code",
   "execution_count": 14,
   "metadata": {},
   "outputs": [
    {
     "data": {
      "image/png": "[encoded data removed]",
      "text/plain": [
       "<Figure size 1000x600 with 1 Axes>"
      ]
     },
     "metadata": {},
     "output_type": "display_data"
    },
    {
     "name": "stdout",
     "output_type": "stream",
     "text": [
      "Optimal n_estimators: 140 with RMSE: 1737.5307877319342\n"
     ]
    }
   ],
   "source": [
    "# Celda 5\n",
    "import matplotlib.pyplot as plt\n",
    "from sklearn.model_selection import cross_val_score\n",
    "# Rango y almacenamiento de RMSE\n",
    "n_estimators_range = range(10, 150, 10)\n",
    "rmse_scores = []\n",
    "for n_estimators in n_estimators_range:\n",
    "    model = RandomForestRegressor(n_estimators=n_estimators, random_state=42, oob_score=True)\n",
    "    scores = cross_val_score(model, X_train, y_train, cv=5, scoring='neg_mean_squared_error')\n",
    "    rmse_scores.append(np.sqrt(-scores.mean()))\n",
    "\n",
    "# Encontrar el óptimo\n",
    "optimal_n_estimators = n_estimators_range[np.argmin(rmse_scores)]\n",
    "min_rmse = min(rmse_scores)\n",
    "\n",
    "# Gráfico con línea óptima\n",
    "plt.figure(figsize=(10, 6))\n",
    "plt.plot(n_estimators_range, rmse_scores, marker='o')\n",
    "plt.axvline(x=optimal_n_estimators, color='r', linestyle='--', label=f'Optimal n_estimators: {optimal_n_estimators}')\n",
    "plt.xlabel('Number of Estimators (n_estimators)')\n",
    "plt.ylabel('RMSE')\n",
    "plt.title('RMSE vs. Number of Estimators')\n",
    "plt.legend()\n",
    "plt.grid(True)\n",
    "plt.show()\n",
    "\n",
    "print(f'Optimal n_estimators: {optimal_n_estimators} with RMSE: {min_rmse}')"
   ]
  },
  {
   "cell_type": "markdown",
   "metadata": {},
   "source": [
    "El parámetro n_estimators en un Random Forest indica el número de árboles de decisión que se utilizarán en el bosque. En general, agregar más árboles al bosque puede mejorar el rendimiento del modelo. A medida que aumenta el número de árboles, el modelo se vuelve más estable y menos propenso al sobreajuste. \n",
    "\n",
    "Sin embargo, en cierto punto, el aumento de árboles en un random forest representa un aumento marginal del desempeño y un coste computacional añadido, por tanto, se busca encontrar la cantidad de arboles donde el error de predicción se estabilice y un aumento de árboles no represente una mejora de consideración.\n",
    "\n",
    "En la gráfica se puede observar que a partir de 100 arboles el algoritmo parece converger a cierto error, a pesar de esto escogemos la cantidad de arboles que minimice el error de predicción."
   ]
  },
  {
   "cell_type": "code",
   "execution_count": 15,
   "metadata": {},
   "outputs": [
    {
     "data": {
      "image/png": "[encoded data removed]",
      "text/plain": [
       "<Figure size 1000x600 with 1 Axes>"
      ]
     },
     "metadata": {},
     "output_type": "display_data"
    },
    {
     "name": "stdout",
     "output_type": "stream",
     "text": [
      "Optimal max_depth: 7 with RMSE: 1528.9611823143096\n"
     ]
    }
   ],
   "source": [
    "max_depth_range = range(1, 31, 2)\n",
    "rmse_scores = []\n",
    "for max_depth in max_depth_range:\n",
    "    model = RandomForestRegressor(n_estimators=100, max_depth=max_depth, random_state=42, oob_score=True)\n",
    "    scores = cross_val_score(model, X_train, y_train, cv=5, scoring='neg_mean_squared_error')\n",
    "    rmse_scores.append(np.sqrt(-scores.mean()))\n",
    "\n",
    "# Encontrar el óptimo\n",
    "optimal_max_depth = max_depth_range[np.argmin(rmse_scores)]\n",
    "\n",
    "# Gráfico con línea óptima\n",
    "plt.figure(figsize=(10, 6))\n",
    "plt.plot(max_depth_range, rmse_scores, marker='o')\n",
    "plt.axvline(x=optimal_max_depth, color='r', linestyle='--', label=f'Optimal max_depth: {optimal_max_depth}')\n",
    "plt.xlabel('Max Depth')\n",
    "plt.ylabel('RMSE')\n",
    "plt.title('RMSE vs. Max Depth')\n",
    "plt.legend()\n",
    "plt.grid(True)\n",
    "plt.show()\n",
    "\n",
    "print(f'Optimal max_depth: {optimal_max_depth} with RMSE: {min(rmse_scores)}')\n"
   ]
  },
  {
   "cell_type": "markdown",
   "metadata": {},
   "source": [
    "El hiperparámetro max_depth en un Random Forest controla la profundidad máxima de cada árbol de decisión individual en el bosque. Limitar la profundidad máxima de los árboles puede ayudar a prevenir el sobreajuste al evitar que los árboles sean demasiado complejos y se ajusten demasiado a los datos de entrenamiento. \n",
    "\n",
    "Podemos observar que existe un óptimo notable en una profundidad de 7. Si se agrega o disminuye profundidad a los árboles generarán un detrimento en el error en la muestra de validación.\n"
   ]
  },
  {
   "cell_type": "code",
   "execution_count": 16,
   "metadata": {},
   "outputs": [
    {
     "data": {
      "image/png": "[encoded data removed]",
      "text/plain": [
       "<Figure size 1000x600 with 1 Axes>"
      ]
     },
     "metadata": {},
     "output_type": "display_data"
    },
    {
     "name": "stdout",
     "output_type": "stream",
     "text": [
      "Optimal max_features: 9 with RMSE: 1738.3662548162006\n"
     ]
    }
   ],
   "source": [
    "# Suponiendo que X_train está definido y tiene, por ejemplo, 30 características\n",
    "total_features = X_train.shape[1]  # Número total de características\n",
    "\n",
    "# Definir un rango de valores enteros para max_features\n",
    "max_features_values = range(1, total_features + 1)  # Desde 1 hasta el número total de características\n",
    "\n",
    "# Almacenar el RMSE promedio para cada valor de max_features\n",
    "rmse_scores = []\n",
    "\n",
    "# Realizar validación cruzada para cada valor de max_features\n",
    "for max_features in max_features_values:\n",
    "    model = RandomForestRegressor(n_estimators=100, max_features=max_features, random_state=42, oob_score=True)\n",
    "    scores = cross_val_score(model, X_train, y_train, cv=5, scoring='neg_mean_squared_error')\n",
    "    rmse_scores.append(np.sqrt(-scores.mean()))\n",
    "\n",
    "# Encontrar el índice del mínimo RMSE\n",
    "optimal_index = np.argmin(rmse_scores)\n",
    "optimal_max_features = max_features_values[optimal_index]\n",
    "min_rmse = rmse_scores[optimal_index]\n",
    "\n",
    "# Gráfico del desempeño del modelo vs la cantidad de max_features\n",
    "plt.figure(figsize=(10, 6))\n",
    "plt.plot(max_features_values, rmse_scores, marker='o')\n",
    "plt.axvline(x=optimal_max_features, color='r', linestyle='--', label=f'Optimal max_features: {optimal_max_features}')\n",
    "plt.xlabel('Max Features (integers)')\n",
    "plt.ylabel('RMSE')\n",
    "plt.title('RMSE vs. Max Features')\n",
    "plt.legend()\n",
    "plt.grid(True)\n",
    "plt.show()\n",
    "\n",
    "print(f'Optimal max_features: {optimal_max_features} with RMSE: {min_rmse}')\n"
   ]
  },
  {
   "cell_type": "markdown",
   "metadata": {},
   "source": [
    "El hiperparámetro max_features en un Random Forest controla el número máximo de variables que se considerarán al buscar la mejor división en cada nodo del árbol de decisión.\n",
    "\n",
    "Podemos observar que en este ejemplo puntual, el error del modelo en la muestra de validación se minimiza utilizando la totalidad de las variables. Podemos tambien observar una linealidad estricta entre la cantidad de columnas y el error."
   ]
  },
  {
   "cell_type": "markdown",
   "metadata": {},
   "source": [
    "Con los hiperparámetros encontrados hacemos una segunda busqueda de hiperparámetros óptimos mediante una busqueda con grilla. Utilizamos valores alrededor de los hiperparámetros encontrados en la busqueda secuencial con el fin de reducir la cantidad de combinaciones evaluadas."
   ]
  },
  {
   "cell_type": "code",
   "execution_count": 17,
   "metadata": {},
   "outputs": [
    {
     "name": "stdout",
     "output_type": "stream",
     "text": [
      "Fitting 5 folds for each of 27 candidates, totalling 135 fits\n",
      "[CV] END ......max_depth=5, max_features=5, n_estimators=100; total time=   0.4s\n",
      "[CV] END ......max_depth=5, max_features=5, n_estimators=100; total time=   0.3s\n",
      "[CV] END ......max_depth=5, max_features=5, n_estimators=100; total time=   0.2s\n",
      "[CV] END ......max_depth=5, max_features=5, n_estimators=100; total time=   0.2s\n",
      "[CV] END ......max_depth=5, max_features=5, n_estimators=100; total time=   0.2s\n",
      "[CV] END ......max_depth=5, max_features=5, n_estimators=150; total time=   0.4s\n",
      "[CV] END ......max_depth=5, max_features=5, n_estimators=150; total time=   0.4s\n",
      "[CV] END ......max_depth=5, max_features=5, n_estimators=150; total time=   0.4s\n",
      "[CV] END ......max_depth=5, max_features=5, n_estimators=150; total time=   0.6s\n",
      "[CV] END ......max_depth=5, max_features=5, n_estimators=150; total time=   0.5s\n",
      "[CV] END ......max_depth=5, max_features=5, n_estimators=200; total time=   0.7s\n",
      "[CV] END ......max_depth=5, max_features=5, n_estimators=200; total time=   0.8s\n",
      "[CV] END ......max_depth=5, max_features=5, n_estimators=200; total time=   0.7s\n",
      "[CV] END ......max_depth=5, max_features=5, n_estimators=200; total time=   0.5s\n",
      "[CV] END ......max_depth=5, max_features=5, n_estimators=200; total time=   0.5s\n",
      "[CV] END ......max_depth=5, max_features=7, n_estimators=100; total time=   0.3s\n",
      "[CV] END ......max_depth=5, max_features=7, n_estimators=100; total time=   0.3s\n",
      "[CV] END ......max_depth=5, max_features=7, n_estimators=100; total time=   0.3s\n",
      "[CV] END ......max_depth=5, max_features=7, n_estimators=100; total time=   0.3s\n",
      "[CV] END ......max_depth=5, max_features=7, n_estimators=100; total time=   0.3s\n",
      "[CV] END ......max_depth=5, max_features=7, n_estimators=150; total time=   0.5s\n",
      "[CV] END ......max_depth=5, max_features=7, n_estimators=150; total time=   0.5s\n",
      "[CV] END ......max_depth=5, max_features=7, n_estimators=150; total time=   0.6s\n",
      "[CV] END ......max_depth=5, max_features=7, n_estimators=150; total time=   0.5s\n",
      "[CV] END ......max_depth=5, max_features=7, n_estimators=150; total time=   0.5s\n",
      "[CV] END ......max_depth=5, max_features=7, n_estimators=200; total time=   0.7s\n",
      "[CV] END ......max_depth=5, max_features=7, n_estimators=200; total time=   0.7s\n",
      "[CV] END ......max_depth=5, max_features=7, n_estimators=200; total time=   0.7s\n",
      "[CV] END ......max_depth=5, max_features=7, n_estimators=200; total time=   0.8s\n",
      "[CV] END ......max_depth=5, max_features=7, n_estimators=200; total time=   0.8s\n",
      "[CV] END ......max_depth=5, max_features=9, n_estimators=100; total time=   0.4s\n",
      "[CV] END ......max_depth=5, max_features=9, n_estimators=100; total time=   0.4s\n",
      "[CV] END ......max_depth=5, max_features=9, n_estimators=100; total time=   0.5s\n",
      "[CV] END ......max_depth=5, max_features=9, n_estimators=100; total time=   0.4s\n",
      "[CV] END ......max_depth=5, max_features=9, n_estimators=100; total time=   0.4s\n",
      "[CV] END ......max_depth=5, max_features=9, n_estimators=150; total time=   0.6s\n",
      "[CV] END ......max_depth=5, max_features=9, n_estimators=150; total time=   0.6s\n",
      "[CV] END ......max_depth=5, max_features=9, n_estimators=150; total time=   0.6s\n",
      "[CV] END ......max_depth=5, max_features=9, n_estimators=150; total time=   0.7s\n",
      "[CV] END ......max_depth=5, max_features=9, n_estimators=150; total time=   0.6s\n",
      "[CV] END ......max_depth=5, max_features=9, n_estimators=200; total time=   1.0s\n",
      "[CV] END ......max_depth=5, max_features=9, n_estimators=200; total time=   1.0s\n",
      "[CV] END ......max_depth=5, max_features=9, n_estimators=200; total time=   0.9s\n",
      "[CV] END ......max_depth=5, max_features=9, n_estimators=200; total time=   0.9s\n",
      "[CV] END ......max_depth=5, max_features=9, n_estimators=200; total time=   1.0s\n",
      "[CV] END ......max_depth=7, max_features=5, n_estimators=100; total time=   0.3s\n",
      "[CV] END ......max_depth=7, max_features=5, n_estimators=100; total time=   0.4s\n",
      "[CV] END ......max_depth=7, max_features=5, n_estimators=100; total time=   0.4s\n",
      "[CV] END ......max_depth=7, max_features=5, n_estimators=100; total time=   0.4s\n",
      "[CV] END ......max_depth=7, max_features=5, n_estimators=100; total time=   0.3s\n",
      "[CV] END ......max_depth=7, max_features=5, n_estimators=150; total time=   0.6s\n",
      "[CV] END ......max_depth=7, max_features=5, n_estimators=150; total time=   0.5s\n",
      "[CV] END ......max_depth=7, max_features=5, n_estimators=150; total time=   0.6s\n",
      "[CV] END ......max_depth=7, max_features=5, n_estimators=150; total time=   0.5s\n",
      "[CV] END ......max_depth=7, max_features=5, n_estimators=150; total time=   0.5s\n",
      "[CV] END ......max_depth=7, max_features=5, n_estimators=200; total time=   0.7s\n",
      "[CV] END ......max_depth=7, max_features=5, n_estimators=200; total time=   0.7s\n",
      "[CV] END ......max_depth=7, max_features=5, n_estimators=200; total time=   0.6s\n",
      "[CV] END ......max_depth=7, max_features=5, n_estimators=200; total time=   0.6s\n",
      "[CV] END ......max_depth=7, max_features=5, n_estimators=200; total time=   0.6s\n",
      "[CV] END ......max_depth=7, max_features=7, n_estimators=100; total time=   0.3s\n",
      "[CV] END ......max_depth=7, max_features=7, n_estimators=100; total time=   0.4s\n",
      "[CV] END ......max_depth=7, max_features=7, n_estimators=100; total time=   0.4s\n",
      "[CV] END ......max_depth=7, max_features=7, n_estimators=100; total time=   0.4s\n",
      "[CV] END ......max_depth=7, max_features=7, n_estimators=100; total time=   0.4s\n",
      "[CV] END ......max_depth=7, max_features=7, n_estimators=150; total time=   0.8s\n",
      "[CV] END ......max_depth=7, max_features=7, n_estimators=150; total time=   0.7s\n",
      "[CV] END ......max_depth=7, max_features=7, n_estimators=150; total time=   0.7s\n",
      "[CV] END ......max_depth=7, max_features=7, n_estimators=150; total time=   0.7s\n",
      "[CV] END ......max_depth=7, max_features=7, n_estimators=150; total time=   0.6s\n",
      "[CV] END ......max_depth=7, max_features=7, n_estimators=200; total time=   1.0s\n",
      "[CV] END ......max_depth=7, max_features=7, n_estimators=200; total time=   1.0s\n",
      "[CV] END ......max_depth=7, max_features=7, n_estimators=200; total time=   0.9s\n",
      "[CV] END ......max_depth=7, max_features=7, n_estimators=200; total time=   1.0s\n",
      "[CV] END ......max_depth=7, max_features=7, n_estimators=200; total time=   0.8s\n",
      "[CV] END ......max_depth=7, max_features=9, n_estimators=100; total time=   0.5s\n",
      "[CV] END ......max_depth=7, max_features=9, n_estimators=100; total time=   0.5s\n",
      "[CV] END ......max_depth=7, max_features=9, n_estimators=100; total time=   0.5s\n",
      "[CV] END ......max_depth=7, max_features=9, n_estimators=100; total time=   0.6s\n",
      "[CV] END ......max_depth=7, max_features=9, n_estimators=100; total time=   0.5s\n",
      "[CV] END ......max_depth=7, max_features=9, n_estimators=150; total time=   0.9s\n",
      "[CV] END ......max_depth=7, max_features=9, n_estimators=150; total time=   0.7s\n",
      "[CV] END ......max_depth=7, max_features=9, n_estimators=150; total time=   0.8s\n",
      "[CV] END ......max_depth=7, max_features=9, n_estimators=150; total time=   0.7s\n",
      "[CV] END ......max_depth=7, max_features=9, n_estimators=150; total time=   0.8s\n",
      "[CV] END ......max_depth=7, max_features=9, n_estimators=200; total time=   1.2s\n",
      "[CV] END ......max_depth=7, max_features=9, n_estimators=200; total time=   1.4s\n",
      "[CV] END ......max_depth=7, max_features=9, n_estimators=200; total time=   1.2s\n",
      "[CV] END ......max_depth=7, max_features=9, n_estimators=200; total time=   1.2s\n",
      "[CV] END ......max_depth=7, max_features=9, n_estimators=200; total time=   1.2s\n",
      "[CV] END .....max_depth=10, max_features=5, n_estimators=100; total time=   0.5s\n",
      "[CV] END .....max_depth=10, max_features=5, n_estimators=100; total time=   0.5s\n",
      "[CV] END .....max_depth=10, max_features=5, n_estimators=100; total time=   0.5s\n",
      "[CV] END .....max_depth=10, max_features=5, n_estimators=100; total time=   0.5s\n",
      "[CV] END .....max_depth=10, max_features=5, n_estimators=100; total time=   0.5s\n",
      "[CV] END .....max_depth=10, max_features=5, n_estimators=150; total time=   0.8s\n",
      "[CV] END .....max_depth=10, max_features=5, n_estimators=150; total time=   0.9s\n",
      "[CV] END .....max_depth=10, max_features=5, n_estimators=150; total time=   0.7s\n",
      "[CV] END .....max_depth=10, max_features=5, n_estimators=150; total time=   0.7s\n",
      "[CV] END .....max_depth=10, max_features=5, n_estimators=150; total time=   0.7s\n",
      "[CV] END .....max_depth=10, max_features=5, n_estimators=200; total time=   0.9s\n",
      "[CV] END .....max_depth=10, max_features=5, n_estimators=200; total time=   0.9s\n",
      "[CV] END .....max_depth=10, max_features=5, n_estimators=200; total time=   1.0s\n",
      "[CV] END .....max_depth=10, max_features=5, n_estimators=200; total time=   1.1s\n",
      "[CV] END .....max_depth=10, max_features=5, n_estimators=200; total time=   1.1s\n",
      "[CV] END .....max_depth=10, max_features=7, n_estimators=100; total time=   0.6s\n",
      "[CV] END .....max_depth=10, max_features=7, n_estimators=100; total time=   0.7s\n",
      "[CV] END .....max_depth=10, max_features=7, n_estimators=100; total time=   0.5s\n",
      "[CV] END .....max_depth=10, max_features=7, n_estimators=100; total time=   0.5s\n",
      "[CV] END .....max_depth=10, max_features=7, n_estimators=100; total time=   0.5s\n",
      "[CV] END .....max_depth=10, max_features=7, n_estimators=150; total time=   0.9s\n",
      "[CV] END .....max_depth=10, max_features=7, n_estimators=150; total time=   0.8s\n",
      "[CV] END .....max_depth=10, max_features=7, n_estimators=150; total time=   0.8s\n",
      "[CV] END .....max_depth=10, max_features=7, n_estimators=150; total time=   0.9s\n",
      "[CV] END .....max_depth=10, max_features=7, n_estimators=150; total time=   1.0s\n",
      "[CV] END .....max_depth=10, max_features=7, n_estimators=200; total time=   1.4s\n",
      "[CV] END .....max_depth=10, max_features=7, n_estimators=200; total time=   1.3s\n",
      "[CV] END .....max_depth=10, max_features=7, n_estimators=200; total time=   1.2s\n",
      "[CV] END .....max_depth=10, max_features=7, n_estimators=200; total time=   1.2s\n",
      "[CV] END .....max_depth=10, max_features=7, n_estimators=200; total time=   1.2s\n",
      "[CV] END .....max_depth=10, max_features=9, n_estimators=100; total time=   0.7s\n",
      "[CV] END .....max_depth=10, max_features=9, n_estimators=100; total time=   0.7s\n",
      "[CV] END .....max_depth=10, max_features=9, n_estimators=100; total time=   0.7s\n",
      "[CV] END .....max_depth=10, max_features=9, n_estimators=100; total time=   0.7s\n",
      "[CV] END .....max_depth=10, max_features=9, n_estimators=100; total time=   0.9s\n",
      "[CV] END .....max_depth=10, max_features=9, n_estimators=150; total time=   1.3s\n",
      "[CV] END .....max_depth=10, max_features=9, n_estimators=150; total time=   1.1s\n",
      "[CV] END .....max_depth=10, max_features=9, n_estimators=150; total time=   1.1s\n",
      "[CV] END .....max_depth=10, max_features=9, n_estimators=150; total time=   1.1s\n",
      "[CV] END .....max_depth=10, max_features=9, n_estimators=150; total time=   1.2s\n",
      "[CV] END .....max_depth=10, max_features=9, n_estimators=200; total time=   1.6s\n",
      "[CV] END .....max_depth=10, max_features=9, n_estimators=200; total time=   1.4s\n",
      "[CV] END .....max_depth=10, max_features=9, n_estimators=200; total time=   1.5s\n",
      "[CV] END .....max_depth=10, max_features=9, n_estimators=200; total time=   1.7s\n",
      "[CV] END .....max_depth=10, max_features=9, n_estimators=200; total time=   1.8s\n",
      "Mejores parámetros: {'max_depth': 7, 'max_features': 5, 'n_estimators': 200}\n",
      "Mejor score RMSE: 1522.2027154412374\n"
     ]
    }
   ],
   "source": [
    "from sklearn.model_selection import GridSearchCV\n",
    "# Definición del modelo base\n",
    "random_forest_model = RandomForestRegressor(random_state=42)\n",
    "\n",
    "# Definición de la cuadrícula de parámetros\n",
    "param_grid = {\n",
    "    'n_estimators': [100, 150, 200],  # Puedes ajustar estos valores basado en tu presupuesto computacional\n",
    "    'max_depth': [5, 7, 10],         # Profundidades razonables para probar\n",
    "    'max_features': [5, 7, 9]        # Número de características basado en tu análisis previo\n",
    "}\n",
    "\n",
    "# Configuración de GridSearchCV\n",
    "grid_search = GridSearchCV(estimator=random_forest_model, param_grid=param_grid, cv=5, scoring='neg_mean_squared_error', verbose=2)\n",
    "\n",
    "# Ejecución de la búsqueda en cuadrícula\n",
    "grid_search.fit(X_train, y_train)\n",
    "\n",
    "# Mejores parámetros y mejor score\n",
    "best_params = grid_search.best_params_\n",
    "best_rmse = np.sqrt(-grid_search.best_score_)\n",
    "\n",
    "print(\"Mejores parámetros:\", best_params)\n",
    "print(\"Mejor score RMSE:\", best_rmse)\n"
   ]
  },
  {
   "cell_type": "code",
   "execution_count": 18,
   "metadata": {},
   "outputs": [
    {
     "name": "stdout",
     "output_type": "stream",
     "text": [
      "Modelo Random Forest - RMSE en el conjunto de prueba  1558.7573540547864\n",
      "Modelo Random Forest - MAE en el conjunto de prueba: 1146.5413893753007\n"
     ]
    }
   ],
   "source": [
    "random_forest_model = RandomForestRegressor(\n",
    "    n_estimators=200,        # Optimal n_estimators\n",
    "    max_depth=7,             # Optimal max_depth\n",
    "    max_features=5,          # Optimal max_features\n",
    "    random_state=42,\n",
    "    oob_score=True           # Mantenemos el OOB score para referencia interna, aunque no lo reportaremos.\n",
    ")\n",
    "\n",
    "# Entrenamiento del modelo\n",
    "random_forest_model.fit(X_train, y_train)\n",
    "\n",
    "# Predicción en el conjunto de prueba\n",
    "y_pred_rf = random_forest_model.predict(X_test)\n",
    "\n",
    "# Cálculo del RMSE\n",
    "rmse_rf = np.sqrt(mean_squared_error(y_test, y_pred_rf))\n",
    "\n",
    "# Cálculo del MAE\n",
    "mae_rf = mean_absolute_error(y_test, y_pred_rf)\n",
    "\n",
    "print(f'Modelo Random Forest - RMSE en el conjunto de prueba  {rmse_rf}')\n",
    "print(f'Modelo Random Forest - MAE en el conjunto de prueba: {mae_rf}')"
   ]
  },
  {
   "cell_type": "markdown",
   "metadata": {},
   "source": [
    "En la nueva validación cruzada encontramos que hay un cambio, nos recomienda utilizar un hiperparámetro de max_features = 5 a diferencia con la busqueda secuencial que nos recomendaba max_features = 7. \n",
    "\n",
    "Esto nos devuelve un RMSE de 1558 y un MAE de 1146. Lo cual implica que en terminos absolutos, en promedio, las predicciones se desvian alrededor de 1146."
   ]
  },
  {
   "cell_type": "markdown",
   "metadata": {},
   "source": [
    "### Punto 6 - XGBoost con librería\n",
    "\n",
    "En la celda 6 implementen un modelo XGBoost de regresión con la librería sklearn y comenten sobre el desempeño del modelo."
   ]
  },
  {
   "cell_type": "code",
   "execution_count": 19,
   "metadata": {},
   "outputs": [
    {
     "name": "stdout",
     "output_type": "stream",
     "text": [
      "RMSE: 1605.2355199928948\n",
      "MAE: 1185.2272991506386\n"
     ]
    }
   ],
   "source": [
    "# Celda 6\n",
    "# import pandas as pd\n",
    "# from sklearn.model_selection import train_test_split\n",
    "# from sklearn.metrics import mean_squared_error, mean_absolute_error\n",
    "from xgboost import XGBRegressor\n",
    "# import numpy as np\n",
    "\n",
    "# Configurando el modelo XGBoost para regresión\n",
    "xgb_model = XGBRegressor(objective='reg:squarederror', random_state=42)\n",
    "\n",
    "# Entrenamiento del modelo\n",
    "xgb_model.fit(X_train, y_train)\n",
    "\n",
    "# Predicción en el conjunto de prueba\n",
    "y_pred_xgb = xgb_model.predict(X_test)\n",
    "\n",
    "# Cálculo del RMSE\n",
    "rmse_xgb = np.sqrt(mean_squared_error(y_test, y_pred_xgb))\n",
    "\n",
    "# Cálculo del MAE\n",
    "mae_xgb = mean_absolute_error(y_test, y_pred_xgb)\n",
    "\n",
    "print(\"RMSE:\", rmse_xgb)\n",
    "print(\"MAE:\", mae_xgb)"
   ]
  },
  {
   "cell_type": "markdown",
   "metadata": {},
   "source": [
    "Implementando un modelo XGBoost sin hiperparámetros cross validados, es decir, con los valores por defecto encontramos un RMSE de 1605 y un MAE de 1185. \n",
    "\n",
    "Estos valores representan un mayor error en el modelo en comparación con el random forest previamente entrenado. Es posible que los hiperparámetros evaluados por defecto no encuentren un modelo óptimo."
   ]
  },
  {
   "cell_type": "markdown",
   "metadata": {},
   "source": [
    "### Punto 7 - Calibración de parámetros XGBoost\n",
    "\n",
    "En la celda 7 calibren los parámetros learning rate, gamma y colsample_bytree del modelo XGBoost para regresión, comenten sobre el desempeño del modelo y describan cómo cada parámetro afecta el desempeño del modelo."
   ]
  },
  {
   "cell_type": "markdown",
   "metadata": {},
   "source": [
    "En primer lugar haremos una busqueda de hiperparámetros secuencial, encontrando el óptimo de los hiperparámetros uno a uno, manteniendo los demás constantes, para de esta forma poder observar como afecta cada hiperparámetro al desempeño del modelo. Posteriormente haremos una busqueda por grilla en una muestra más focalizada en valores alrededor de los óptimos iniciales."
   ]
  },
  {
   "cell_type": "code",
   "execution_count": 20,
   "metadata": {},
   "outputs": [
    {
     "data": {
      "image/png": "[encoded data removed]",
      "text/plain": [
       "<Figure size 1000x600 with 1 Axes>"
      ]
     },
     "metadata": {},
     "output_type": "display_data"
    },
    {
     "name": "stdout",
     "output_type": "stream",
     "text": [
      "El learning rate óptimo es 0.11473684210526315 con un RMSE de 1533.4261988725468\n"
     ]
    }
   ],
   "source": [
    "# Celda 7\n",
    "# Definición de los valores de learning_rate a probar\n",
    "learning_rates = np.linspace(0.01, 2, 20)  # Valores entre 0.01 y 2\n",
    "\n",
    "# Almacenar el RMSE promedio para cada valor de learning_rate\n",
    "rmse_scores = []\n",
    "\n",
    "# Realizar un 5-fold cross-validation para cada valor de learning_rate\n",
    "for rate in learning_rates:\n",
    "    model = XGBRegressor(objective='reg:squarederror', n_estimators=100, learning_rate=rate, random_state=42)\n",
    "    scores = cross_val_score(model, X_train, y_train, cv=5, scoring='neg_mean_squared_error')\n",
    "    rmse_scores.append(np.sqrt(-scores.mean()))  # Convertir de MSE a RMSE\n",
    "\n",
    "# Encontrar el índice del mínimo RMSE\n",
    "min_rmse_index = np.argmin(rmse_scores)\n",
    "# Encontrar el learning_rate que corresponde al mínimo RMSE\n",
    "optimal_learning_rate = learning_rates[min_rmse_index]\n",
    "\n",
    "# Gráfica del desempeño del modelo vs la cantidad de learning_rate\n",
    "plt.figure(figsize=(10, 6))\n",
    "plt.plot(learning_rates, rmse_scores, marker='o')\n",
    "plt.xlabel('Learning Rate')\n",
    "plt.ylabel('RMSE')\n",
    "plt.title('RMSE vs. Learning Rate')\n",
    "plt.grid(True)\n",
    "plt.axvline(x=optimal_learning_rate, color='r', linestyle='--', label=f'Optimal learning rate: {optimal_learning_rate}')\n",
    "plt.legend()\n",
    "plt.show()\n",
    "\n",
    "print(f'El learning rate óptimo es {optimal_learning_rate} con un RMSE de {min(rmse_scores)}')"
   ]
  },
  {
   "cell_type": "markdown",
   "metadata": {},
   "source": [
    "La tasa de aprendizaje es un parámetro crucial que controla la contribución de cada árbol al modelo final. Se utiliza en conjunto con el número de árboles (n_estimators) para controlar la velocidad y la calidad del entrenamiento del modelo.\n",
    "\n",
    "Si la tasa de aprendizaje es demasiado baja, existe el riesgo de que el modelo se estanque en un mínimo local subóptimo o incluso no converja en absoluto.\n",
    "\n",
    "Por otro lado, una tasa de aprendizaje demasiado alta puede hacer que el modelo salte sobre el óptimo global y oscile alrededor de él, lo que puede llevar a un sobreajuste a los datos de entrenamiento."
   ]
  },
  {
   "cell_type": "code",
   "execution_count": 21,
   "metadata": {},
   "outputs": [
    {
     "data": {
      "image/png": "[encoded data removed]",
      "text/plain": [
       "<Figure size 1000x600 with 1 Axes>"
      ]
     },
     "metadata": {},
     "output_type": "display_data"
    },
    {
     "name": "stdout",
     "output_type": "stream",
     "text": [
      "El gamma óptimo es 20.0 con un RMSE de 1529.4625458430278\n"
     ]
    }
   ],
   "source": [
    "# Definición de los valores de gamma a probar\n",
    "gamma_values = np.linspace(0, 20, 10)  # Ejemplo: valores entre 0 y 0.5\n",
    "\n",
    "# Almacenar el RMSE promedio para cada valor de gamma\n",
    "rmse_scores = []\n",
    "\n",
    "# Realizar un 5-fold cross-validation para cada valor de gamma\n",
    "for gamma in gamma_values:\n",
    "    model = XGBRegressor(objective='reg:squarederror', n_estimators=100, learning_rate=0.1, gamma=gamma, random_state=42)\n",
    "    scores = cross_val_score(model, X_train, y_train, cv=5, scoring='neg_mean_squared_error')\n",
    "    rmse_scores.append(np.sqrt(-scores.mean()))  # Convertir de MSE a RMSE\n",
    "\n",
    "# Encontrar el índice del mínimo RMSE\n",
    "min_rmse_index = np.argmin(rmse_scores)\n",
    "# Encontrar el gamma que corresponde al mínimo RMSE\n",
    "optimal_gamma = gamma_values[min_rmse_index]\n",
    "\n",
    "# Gráfica del desempeño del modelo vs la cantidad de gamma\n",
    "plt.figure(figsize=(10, 6))\n",
    "plt.plot(gamma_values, rmse_scores, marker='o')\n",
    "plt.xlabel('Gamma')\n",
    "plt.ylabel('RMSE')\n",
    "plt.title('RMSE vs. Gamma')\n",
    "plt.grid(True)\n",
    "plt.axvline(x=optimal_gamma, color='r', linestyle='--', label=f'Optimal Gamma: {optimal_gamma}')\n",
    "plt.legend()\n",
    "plt.show()\n",
    "\n",
    "print(f'El gamma óptimo es {optimal_gamma} con un RMSE de {min(rmse_scores)}')"
   ]
  },
  {
   "cell_type": "markdown",
   "metadata": {},
   "source": [
    "El parámetro gamma en XGBoost es un hiperparámetro que controla cuánta reducción de la pérdida se requerirá para realizar una división en un nodo del árbol. \n",
    "\n",
    "Valor cero o muy bajo de gamma implica que no se aplicará ninguna penalización por complejidad al árbol.\n",
    "\n",
    "Valor alto de gamma implica una penalización más fuerte por la complejidad del árbol. Conduce a árboles más simples y menos profundos durante el entrenamiento.\n",
    "\n",
    "Podemos observar que no existe un efecto de reducción del error hasta el valor de gamma = 20, donde se observa una caída del error de predicción."
   ]
  },
  {
   "cell_type": "code",
   "execution_count": 22,
   "metadata": {},
   "outputs": [
    {
     "data": {
      "image/png": "[encoded data removed]",
      "text/plain": [
       "<Figure size 1000x600 with 1 Axes>"
      ]
     },
     "metadata": {},
     "output_type": "display_data"
    },
    {
     "name": "stdout",
     "output_type": "stream",
     "text": [
      "El colsample_bytree óptimo es 0.5 con un RMSE de 1512.2518587947768\n"
     ]
    }
   ],
   "source": [
    "# Definición de los valores de colsample_bytree a probar\n",
    "colsample_bytree_values = np.linspace(0.1, 1.0, 10)  # Valores entre 0.1 y 1.0\n",
    "\n",
    "# Almacenar el RMSE promedio para cada valor de colsample_bytree\n",
    "rmse_scores = []\n",
    "\n",
    "# Realizar un 5-fold cross-validation para cada valor de colsample_bytree\n",
    "for colsample in colsample_bytree_values:\n",
    "    model = XGBRegressor(objective='reg:squarederror', n_estimators=100, learning_rate=0.1, colsample_bytree=colsample, random_state=42)\n",
    "    scores = cross_val_score(model, X_train, y_train, cv=5, scoring='neg_mean_squared_error')\n",
    "    rmse_scores.append(np.sqrt(-scores.mean()))  # Convertir de MSE a RMSE\n",
    "\n",
    "# Encontrar el índice del mínimo RMSE\n",
    "min_rmse_index = np.argmin(rmse_scores)\n",
    "# Encontrar el colsample_bytree que corresponde al mínimo RMSE\n",
    "optimal_colsample_bytree = colsample_bytree_values[min_rmse_index]\n",
    "\n",
    "# Gráfica del desempeño del modelo vs la cantidad de colsample_bytree\n",
    "plt.figure(figsize=(10, 6))\n",
    "plt.plot(colsample_bytree_values, rmse_scores, marker='o')\n",
    "plt.xlabel('colsample_bytree')\n",
    "plt.ylabel('RMSE')\n",
    "plt.title('RMSE vs. colsample_bytree')\n",
    "plt.grid(True)\n",
    "plt.axvline(x=optimal_colsample_bytree, color='r', linestyle='--', label=f'Optimal colsample_bytree: {optimal_colsample_bytree}')\n",
    "plt.legend()\n",
    "plt.show()\n",
    "\n",
    "print(f'El colsample_bytree óptimo es {optimal_colsample_bytree} con un RMSE de {min(rmse_scores)}')\n"
   ]
  },
  {
   "cell_type": "markdown",
   "metadata": {},
   "source": [
    "\n",
    "El parámetro colsample_bytree en XGBoost es un hiperparámetro que controla la proporción de columnas que se utilizarán al construir cada árbol en el modelo. Al seleccionar aleatoriamente solo un subconjunto de características para cada árbol, se reduce la correlación entre los árboles individuales en el modelo, lo que puede ayudar a reducir la varianza y mejorar la generalización del modelo.\n",
    "\n",
    "Podemos observar que el colsample_bytree obtiene su valor mínimo en 0.5, inplicando la selección solo de la mitad de las caracteristicas presentes en la base de entrenamiento. Un aumento o disminución de este hiperparámetro significará un aumento del error."
   ]
  },
  {
   "cell_type": "code",
   "execution_count": 23,
   "metadata": {},
   "outputs": [
    {
     "name": "stdout",
     "output_type": "stream",
     "text": [
      "RMSE: 1546.8378489563486\n",
      "MAE: 1137.6471749321142\n"
     ]
    }
   ],
   "source": [
    "# Configurando el modelo XGBoost para regresión\n",
    "xgb_model = XGBRegressor(objective='reg:squarederror',learning_rate=optimal_learning_rate, n_estimators=100, colsample_bytree=optimal_colsample_bytree,gamma=optimal_gamma,  random_state=42)\n",
    "\n",
    "# Entrenamiento del modelo\n",
    "xgb_model.fit(X_train, y_train)\n",
    "\n",
    "# Predicción en el conjunto de prueba\n",
    "y_pred_xgb = xgb_model.predict(X_test)\n",
    "\n",
    "# Cálculo del RMSE\n",
    "rmse_xgb = np.sqrt(mean_squared_error(y_test, y_pred_xgb))\n",
    "\n",
    "# Cálculo del MAE\n",
    "mae_xgb = mean_absolute_error(y_test, y_pred_xgb)\n",
    "\n",
    "print(\"RMSE:\", rmse_xgb)\n",
    "print(\"MAE:\", mae_xgb)"
   ]
  },
  {
   "cell_type": "markdown",
   "metadata": {},
   "source": [
    "Despues de la selección secuencial de los hiperparámetros realizamos el entrenamiento del modelo para evaluar el desempeño de este en la muestra de validación. Podemos obsevar que el RMSE asciende a 1546 y el MAE a 1137. Un desempeño algo superior al obtenido en el modelo de Random Forest.\n",
    "\n",
    "Sin embargo, para reducir aún más el error procedemos a una busqueda de hiperparámetros mediante una grilla alimentada con valores cercanos a los óptimos encontrados en el ejercicio previo."
   ]
  },
  {
   "cell_type": "code",
   "execution_count": 24,
   "metadata": {},
   "outputs": [
    {
     "name": "stdout",
     "output_type": "stream",
     "text": [
      "Fitting 5 folds for each of 48 candidates, totalling 240 fits\n"
     ]
    },
    {
     "name": "stdout",
     "output_type": "stream",
     "text": [
      "[CV] END ..colsample_bytree=0.25, gamma=0, learning_rate=0.1; total time=   0.0s\n",
      "[CV] END ..colsample_bytree=0.25, gamma=0, learning_rate=0.1; total time=   0.0s\n",
      "[CV] END ..colsample_bytree=0.25, gamma=0, learning_rate=0.1; total time=   0.0s\n",
      "[CV] END ..colsample_bytree=0.25, gamma=0, learning_rate=0.1; total time=   0.0s\n",
      "[CV] END ..colsample_bytree=0.25, gamma=0, learning_rate=0.1; total time=   0.0s\n",
      "[CV] END colsample_bytree=0.25, gamma=0, learning_rate=0.105; total time=   0.0s\n",
      "[CV] END colsample_bytree=0.25, gamma=0, learning_rate=0.105; total time=   0.0s\n",
      "[CV] END colsample_bytree=0.25, gamma=0, learning_rate=0.105; total time=   0.0s\n",
      "[CV] END colsample_bytree=0.25, gamma=0, learning_rate=0.105; total time=   0.0s\n",
      "[CV] END colsample_bytree=0.25, gamma=0, learning_rate=0.105; total time=   0.0s\n",
      "[CV] END .colsample_bytree=0.25, gamma=0, learning_rate=0.11; total time=   0.0s\n",
      "[CV] END .colsample_bytree=0.25, gamma=0, learning_rate=0.11; total time=   0.0s\n",
      "[CV] END .colsample_bytree=0.25, gamma=0, learning_rate=0.11; total time=   0.0s\n",
      "[CV] END .colsample_bytree=0.25, gamma=0, learning_rate=0.11; total time=   0.0s\n",
      "[CV] END .colsample_bytree=0.25, gamma=0, learning_rate=0.11; total time=   0.0s\n",
      "[CV] END colsample_bytree=0.25, gamma=0, learning_rate=0.115; total time=   0.0s\n",
      "[CV] END colsample_bytree=0.25, gamma=0, learning_rate=0.115; total time=   0.0s\n",
      "[CV] END colsample_bytree=0.25, gamma=0, learning_rate=0.115; total time=   0.0s\n",
      "[CV] END colsample_bytree=0.25, gamma=0, learning_rate=0.115; total time=   0.0s\n",
      "[CV] END colsample_bytree=0.25, gamma=0, learning_rate=0.115; total time=   0.0s\n",
      "[CV] END .colsample_bytree=0.25, gamma=0, learning_rate=0.12; total time=   0.0s\n",
      "[CV] END .colsample_bytree=0.25, gamma=0, learning_rate=0.12; total time=   0.0s\n",
      "[CV] END .colsample_bytree=0.25, gamma=0, learning_rate=0.12; total time=   0.0s\n",
      "[CV] END .colsample_bytree=0.25, gamma=0, learning_rate=0.12; total time=   0.0s\n",
      "[CV] END .colsample_bytree=0.25, gamma=0, learning_rate=0.12; total time=   0.0s\n",
      "[CV] END colsample_bytree=0.25, gamma=0, learning_rate=0.125; total time=   0.0s\n",
      "[CV] END colsample_bytree=0.25, gamma=0, learning_rate=0.125; total time=   0.1s\n",
      "[CV] END colsample_bytree=0.25, gamma=0, learning_rate=0.125; total time=   0.0s\n",
      "[CV] END colsample_bytree=0.25, gamma=0, learning_rate=0.125; total time=   0.0s\n",
      "[CV] END colsample_bytree=0.25, gamma=0, learning_rate=0.125; total time=   0.0s\n",
      "[CV] END .colsample_bytree=0.25, gamma=0, learning_rate=0.13; total time=   0.0s\n",
      "[CV] END .colsample_bytree=0.25, gamma=0, learning_rate=0.13; total time=   0.0s\n",
      "[CV] END .colsample_bytree=0.25, gamma=0, learning_rate=0.13; total time=   0.0s\n",
      "[CV] END .colsample_bytree=0.25, gamma=0, learning_rate=0.13; total time=   0.0s\n",
      "[CV] END .colsample_bytree=0.25, gamma=0, learning_rate=0.13; total time=   0.0s\n",
      "[CV] END colsample_bytree=0.25, gamma=0, learning_rate=0.135; total time=   0.0s\n",
      "[CV] END colsample_bytree=0.25, gamma=0, learning_rate=0.135; total time=   0.0s\n",
      "[CV] END colsample_bytree=0.25, gamma=0, learning_rate=0.135; total time=   0.0s\n",
      "[CV] END colsample_bytree=0.25, gamma=0, learning_rate=0.135; total time=   0.0s\n",
      "[CV] END colsample_bytree=0.25, gamma=0, learning_rate=0.135; total time=   0.0s\n",
      "[CV] END .colsample_bytree=0.25, gamma=20, learning_rate=0.1; total time=   0.0s\n",
      "[CV] END .colsample_bytree=0.25, gamma=20, learning_rate=0.1; total time=   0.0s\n",
      "[CV] END .colsample_bytree=0.25, gamma=20, learning_rate=0.1; total time=   0.0s\n",
      "[CV] END .colsample_bytree=0.25, gamma=20, learning_rate=0.1; total time=   0.0s\n",
      "[CV] END .colsample_bytree=0.25, gamma=20, learning_rate=0.1; total time=   0.0s\n",
      "[CV] END colsample_bytree=0.25, gamma=20, learning_rate=0.105; total time=   0.0s\n",
      "[CV] END colsample_bytree=0.25, gamma=20, learning_rate=0.105; total time=   0.0s\n",
      "[CV] END colsample_bytree=0.25, gamma=20, learning_rate=0.105; total time=   0.0s\n",
      "[CV] END colsample_bytree=0.25, gamma=20, learning_rate=0.105; total time=   0.0s\n",
      "[CV] END colsample_bytree=0.25, gamma=20, learning_rate=0.105; total time=   0.0s\n",
      "[CV] END colsample_bytree=0.25, gamma=20, learning_rate=0.11; total time=   0.0s\n",
      "[CV] END colsample_bytree=0.25, gamma=20, learning_rate=0.11; total time=   0.0s\n",
      "[CV] END colsample_bytree=0.25, gamma=20, learning_rate=0.11; total time=   0.0s\n",
      "[CV] END colsample_bytree=0.25, gamma=20, learning_rate=0.11; total time=   0.0s\n",
      "[CV] END colsample_bytree=0.25, gamma=20, learning_rate=0.11; total time=   0.0s\n",
      "[CV] END colsample_bytree=0.25, gamma=20, learning_rate=0.115; total time=   0.0s\n",
      "[CV] END colsample_bytree=0.25, gamma=20, learning_rate=0.115; total time=   0.0s\n",
      "[CV] END colsample_bytree=0.25, gamma=20, learning_rate=0.115; total time=   0.0s\n",
      "[CV] END colsample_bytree=0.25, gamma=20, learning_rate=0.115; total time=   0.0s\n",
      "[CV] END colsample_bytree=0.25, gamma=20, learning_rate=0.115; total time=   0.0s\n",
      "[CV] END colsample_bytree=0.25, gamma=20, learning_rate=0.12; total time=   0.0s\n",
      "[CV] END colsample_bytree=0.25, gamma=20, learning_rate=0.12; total time=   0.0s\n",
      "[CV] END colsample_bytree=0.25, gamma=20, learning_rate=0.12; total time=   0.0s\n",
      "[CV] END colsample_bytree=0.25, gamma=20, learning_rate=0.12; total time=   0.0s\n",
      "[CV] END colsample_bytree=0.25, gamma=20, learning_rate=0.12; total time=   0.0s\n",
      "[CV] END colsample_bytree=0.25, gamma=20, learning_rate=0.125; total time=   0.0s\n",
      "[CV] END colsample_bytree=0.25, gamma=20, learning_rate=0.125; total time=   0.0s\n",
      "[CV] END colsample_bytree=0.25, gamma=20, learning_rate=0.125; total time=   0.0s\n",
      "[CV] END colsample_bytree=0.25, gamma=20, learning_rate=0.125; total time=   0.0s\n",
      "[CV] END colsample_bytree=0.25, gamma=20, learning_rate=0.125; total time=   0.0s\n",
      "[CV] END colsample_bytree=0.25, gamma=20, learning_rate=0.13; total time=   0.0s\n",
      "[CV] END colsample_bytree=0.25, gamma=20, learning_rate=0.13; total time=   0.0s\n",
      "[CV] END colsample_bytree=0.25, gamma=20, learning_rate=0.13; total time=   0.0s\n",
      "[CV] END colsample_bytree=0.25, gamma=20, learning_rate=0.13; total time=   0.0s\n",
      "[CV] END colsample_bytree=0.25, gamma=20, learning_rate=0.13; total time=   0.0s\n",
      "[CV] END colsample_bytree=0.25, gamma=20, learning_rate=0.135; total time=   0.0s\n",
      "[CV] END colsample_bytree=0.25, gamma=20, learning_rate=0.135; total time=   0.0s\n",
      "[CV] END colsample_bytree=0.25, gamma=20, learning_rate=0.135; total time=   0.0s\n",
      "[CV] END colsample_bytree=0.25, gamma=20, learning_rate=0.135; total time=   0.0s\n",
      "[CV] END colsample_bytree=0.25, gamma=20, learning_rate=0.135; total time=   0.0s\n",
      "[CV] END ...colsample_bytree=0.5, gamma=0, learning_rate=0.1; total time=   0.0s\n",
      "[CV] END ...colsample_bytree=0.5, gamma=0, learning_rate=0.1; total time=   0.0s\n",
      "[CV] END ...colsample_bytree=0.5, gamma=0, learning_rate=0.1; total time=   0.0s\n",
      "[CV] END ...colsample_bytree=0.5, gamma=0, learning_rate=0.1; total time=   0.0s\n",
      "[CV] END ...colsample_bytree=0.5, gamma=0, learning_rate=0.1; total time=   0.0s\n",
      "[CV] END .colsample_bytree=0.5, gamma=0, learning_rate=0.105; total time=   0.1s\n",
      "[CV] END .colsample_bytree=0.5, gamma=0, learning_rate=0.105; total time=   0.0s\n",
      "[CV] END .colsample_bytree=0.5, gamma=0, learning_rate=0.105; total time=   0.0s\n",
      "[CV] END .colsample_bytree=0.5, gamma=0, learning_rate=0.105; total time=   0.0s\n",
      "[CV] END .colsample_bytree=0.5, gamma=0, learning_rate=0.105; total time=   0.0s\n",
      "[CV] END ..colsample_bytree=0.5, gamma=0, learning_rate=0.11; total time=   0.0s\n",
      "[CV] END ..colsample_bytree=0.5, gamma=0, learning_rate=0.11; total time=   0.0s\n",
      "[CV] END ..colsample_bytree=0.5, gamma=0, learning_rate=0.11; total time=   0.0s\n",
      "[CV] END ..colsample_bytree=0.5, gamma=0, learning_rate=0.11; total time=   0.0s\n",
      "[CV] END ..colsample_bytree=0.5, gamma=0, learning_rate=0.11; total time=   0.0s\n",
      "[CV] END .colsample_bytree=0.5, gamma=0, learning_rate=0.115; total time=   0.0s\n",
      "[CV] END .colsample_bytree=0.5, gamma=0, learning_rate=0.115; total time=   0.0s\n",
      "[CV] END .colsample_bytree=0.5, gamma=0, learning_rate=0.115; total time=   0.0s\n",
      "[CV] END .colsample_bytree=0.5, gamma=0, learning_rate=0.115; total time=   0.0s\n",
      "[CV] END .colsample_bytree=0.5, gamma=0, learning_rate=0.115; total time=   0.0s\n",
      "[CV] END ..colsample_bytree=0.5, gamma=0, learning_rate=0.12; total time=   0.0s\n",
      "[CV] END ..colsample_bytree=0.5, gamma=0, learning_rate=0.12; total time=   0.0s\n",
      "[CV] END ..colsample_bytree=0.5, gamma=0, learning_rate=0.12; total time=   0.0s\n",
      "[CV] END ..colsample_bytree=0.5, gamma=0, learning_rate=0.12; total time=   0.0s\n",
      "[CV] END ..colsample_bytree=0.5, gamma=0, learning_rate=0.12; total time=   0.0s\n",
      "[CV] END .colsample_bytree=0.5, gamma=0, learning_rate=0.125; total time=   0.0s\n",
      "[CV] END .colsample_bytree=0.5, gamma=0, learning_rate=0.125; total time=   0.0s\n",
      "[CV] END .colsample_bytree=0.5, gamma=0, learning_rate=0.125; total time=   0.0s\n",
      "[CV] END .colsample_bytree=0.5, gamma=0, learning_rate=0.125; total time=   0.0s\n",
      "[CV] END .colsample_bytree=0.5, gamma=0, learning_rate=0.125; total time=   0.0s\n",
      "[CV] END ..colsample_bytree=0.5, gamma=0, learning_rate=0.13; total time=   0.0s\n",
      "[CV] END ..colsample_bytree=0.5, gamma=0, learning_rate=0.13; total time=   0.0s\n",
      "[CV] END ..colsample_bytree=0.5, gamma=0, learning_rate=0.13; total time=   0.0s\n",
      "[CV] END ..colsample_bytree=0.5, gamma=0, learning_rate=0.13; total time=   0.0s\n",
      "[CV] END ..colsample_bytree=0.5, gamma=0, learning_rate=0.13; total time=   0.0s\n",
      "[CV] END .colsample_bytree=0.5, gamma=0, learning_rate=0.135; total time=   0.0s\n",
      "[CV] END .colsample_bytree=0.5, gamma=0, learning_rate=0.135; total time=   0.0s\n",
      "[CV] END .colsample_bytree=0.5, gamma=0, learning_rate=0.135; total time=   0.0s\n",
      "[CV] END .colsample_bytree=0.5, gamma=0, learning_rate=0.135; total time=   0.0s\n",
      "[CV] END .colsample_bytree=0.5, gamma=0, learning_rate=0.135; total time=   0.0s\n",
      "[CV] END ..colsample_bytree=0.5, gamma=20, learning_rate=0.1; total time=   0.0s\n",
      "[CV] END ..colsample_bytree=0.5, gamma=20, learning_rate=0.1; total time=   0.0s\n",
      "[CV] END ..colsample_bytree=0.5, gamma=20, learning_rate=0.1; total time=   0.0s\n",
      "[CV] END ..colsample_bytree=0.5, gamma=20, learning_rate=0.1; total time=   0.0s\n",
      "[CV] END ..colsample_bytree=0.5, gamma=20, learning_rate=0.1; total time=   0.0s\n",
      "[CV] END colsample_bytree=0.5, gamma=20, learning_rate=0.105; total time=   0.0s\n",
      "[CV] END colsample_bytree=0.5, gamma=20, learning_rate=0.105; total time=   0.0s\n",
      "[CV] END colsample_bytree=0.5, gamma=20, learning_rate=0.105; total time=   0.0s\n",
      "[CV] END colsample_bytree=0.5, gamma=20, learning_rate=0.105; total time=   0.0s\n",
      "[CV] END colsample_bytree=0.5, gamma=20, learning_rate=0.105; total time=   0.0s\n",
      "[CV] END .colsample_bytree=0.5, gamma=20, learning_rate=0.11; total time=   0.0s\n",
      "[CV] END .colsample_bytree=0.5, gamma=20, learning_rate=0.11; total time=   0.0s\n",
      "[CV] END .colsample_bytree=0.5, gamma=20, learning_rate=0.11; total time=   0.0s\n",
      "[CV] END .colsample_bytree=0.5, gamma=20, learning_rate=0.11; total time=   0.0s\n",
      "[CV] END .colsample_bytree=0.5, gamma=20, learning_rate=0.11; total time=   0.0s\n",
      "[CV] END colsample_bytree=0.5, gamma=20, learning_rate=0.115; total time=   0.0s\n",
      "[CV] END colsample_bytree=0.5, gamma=20, learning_rate=0.115; total time=   0.0s\n",
      "[CV] END colsample_bytree=0.5, gamma=20, learning_rate=0.115; total time=   0.0s\n",
      "[CV] END colsample_bytree=0.5, gamma=20, learning_rate=0.115; total time=   0.0s\n",
      "[CV] END colsample_bytree=0.5, gamma=20, learning_rate=0.115; total time=   0.0s\n",
      "[CV] END .colsample_bytree=0.5, gamma=20, learning_rate=0.12; total time=   0.0s\n",
      "[CV] END .colsample_bytree=0.5, gamma=20, learning_rate=0.12; total time=   0.0s\n",
      "[CV] END .colsample_bytree=0.5, gamma=20, learning_rate=0.12; total time=   0.0s\n",
      "[CV] END .colsample_bytree=0.5, gamma=20, learning_rate=0.12; total time=   0.0s\n",
      "[CV] END .colsample_bytree=0.5, gamma=20, learning_rate=0.12; total time=   0.0s\n",
      "[CV] END colsample_bytree=0.5, gamma=20, learning_rate=0.125; total time=   0.0s\n",
      "[CV] END colsample_bytree=0.5, gamma=20, learning_rate=0.125; total time=   0.0s\n",
      "[CV] END colsample_bytree=0.5, gamma=20, learning_rate=0.125; total time=   0.0s\n",
      "[CV] END colsample_bytree=0.5, gamma=20, learning_rate=0.125; total time=   0.0s\n",
      "[CV] END colsample_bytree=0.5, gamma=20, learning_rate=0.125; total time=   0.0s\n",
      "[CV] END .colsample_bytree=0.5, gamma=20, learning_rate=0.13; total time=   0.0s\n",
      "[CV] END .colsample_bytree=0.5, gamma=20, learning_rate=0.13; total time=   0.0s\n",
      "[CV] END .colsample_bytree=0.5, gamma=20, learning_rate=0.13; total time=   0.0s\n",
      "[CV] END .colsample_bytree=0.5, gamma=20, learning_rate=0.13; total time=   0.0s\n",
      "[CV] END .colsample_bytree=0.5, gamma=20, learning_rate=0.13; total time=   0.0s\n",
      "[CV] END colsample_bytree=0.5, gamma=20, learning_rate=0.135; total time=   0.0s\n",
      "[CV] END colsample_bytree=0.5, gamma=20, learning_rate=0.135; total time=   0.0s\n",
      "[CV] END colsample_bytree=0.5, gamma=20, learning_rate=0.135; total time=   0.0s\n",
      "[CV] END colsample_bytree=0.5, gamma=20, learning_rate=0.135; total time=   0.0s\n",
      "[CV] END colsample_bytree=0.5, gamma=20, learning_rate=0.135; total time=   0.0s\n",
      "[CV] END .....colsample_bytree=1, gamma=0, learning_rate=0.1; total time=   0.0s\n",
      "[CV] END .....colsample_bytree=1, gamma=0, learning_rate=0.1; total time=   0.0s\n",
      "[CV] END .....colsample_bytree=1, gamma=0, learning_rate=0.1; total time=   0.0s\n",
      "[CV] END .....colsample_bytree=1, gamma=0, learning_rate=0.1; total time=   0.0s\n",
      "[CV] END .....colsample_bytree=1, gamma=0, learning_rate=0.1; total time=   0.0s\n",
      "[CV] END ...colsample_bytree=1, gamma=0, learning_rate=0.105; total time=   0.0s\n",
      "[CV] END ...colsample_bytree=1, gamma=0, learning_rate=0.105; total time=   0.0s\n",
      "[CV] END ...colsample_bytree=1, gamma=0, learning_rate=0.105; total time=   0.0s\n",
      "[CV] END ...colsample_bytree=1, gamma=0, learning_rate=0.105; total time=   0.0s\n",
      "[CV] END ...colsample_bytree=1, gamma=0, learning_rate=0.105; total time=   0.0s\n",
      "[CV] END ....colsample_bytree=1, gamma=0, learning_rate=0.11; total time=   0.0s\n",
      "[CV] END ....colsample_bytree=1, gamma=0, learning_rate=0.11; total time=   0.0s\n",
      "[CV] END ....colsample_bytree=1, gamma=0, learning_rate=0.11; total time=   0.0s\n",
      "[CV] END ....colsample_bytree=1, gamma=0, learning_rate=0.11; total time=   0.0s\n",
      "[CV] END ....colsample_bytree=1, gamma=0, learning_rate=0.11; total time=   0.0s\n",
      "[CV] END ...colsample_bytree=1, gamma=0, learning_rate=0.115; total time=   0.0s\n",
      "[CV] END ...colsample_bytree=1, gamma=0, learning_rate=0.115; total time=   0.0s\n",
      "[CV] END ...colsample_bytree=1, gamma=0, learning_rate=0.115; total time=   0.0s\n",
      "[CV] END ...colsample_bytree=1, gamma=0, learning_rate=0.115; total time=   0.0s\n",
      "[CV] END ...colsample_bytree=1, gamma=0, learning_rate=0.115; total time=   0.0s\n",
      "[CV] END ....colsample_bytree=1, gamma=0, learning_rate=0.12; total time=   0.0s\n",
      "[CV] END ....colsample_bytree=1, gamma=0, learning_rate=0.12; total time=   0.0s\n",
      "[CV] END ....colsample_bytree=1, gamma=0, learning_rate=0.12; total time=   0.0s\n",
      "[CV] END ....colsample_bytree=1, gamma=0, learning_rate=0.12; total time=   0.0s\n",
      "[CV] END ....colsample_bytree=1, gamma=0, learning_rate=0.12; total time=   0.0s\n",
      "[CV] END ...colsample_bytree=1, gamma=0, learning_rate=0.125; total time=   0.0s\n",
      "[CV] END ...colsample_bytree=1, gamma=0, learning_rate=0.125; total time=   0.0s\n",
      "[CV] END ...colsample_bytree=1, gamma=0, learning_rate=0.125; total time=   0.0s\n",
      "[CV] END ...colsample_bytree=1, gamma=0, learning_rate=0.125; total time=   0.0s\n",
      "[CV] END ...colsample_bytree=1, gamma=0, learning_rate=0.125; total time=   0.0s\n",
      "[CV] END ....colsample_bytree=1, gamma=0, learning_rate=0.13; total time=   0.0s\n",
      "[CV] END ....colsample_bytree=1, gamma=0, learning_rate=0.13; total time=   0.0s\n",
      "[CV] END ....colsample_bytree=1, gamma=0, learning_rate=0.13; total time=   0.0s\n",
      "[CV] END ....colsample_bytree=1, gamma=0, learning_rate=0.13; total time=   0.0s\n",
      "[CV] END ....colsample_bytree=1, gamma=0, learning_rate=0.13; total time=   0.0s\n",
      "[CV] END ...colsample_bytree=1, gamma=0, learning_rate=0.135; total time=   0.0s\n",
      "[CV] END ...colsample_bytree=1, gamma=0, learning_rate=0.135; total time=   0.0s\n",
      "[CV] END ...colsample_bytree=1, gamma=0, learning_rate=0.135; total time=   0.0s\n",
      "[CV] END ...colsample_bytree=1, gamma=0, learning_rate=0.135; total time=   0.1s\n",
      "[CV] END ...colsample_bytree=1, gamma=0, learning_rate=0.135; total time=   0.0s\n",
      "[CV] END ....colsample_bytree=1, gamma=20, learning_rate=0.1; total time=   0.0s\n",
      "[CV] END ....colsample_bytree=1, gamma=20, learning_rate=0.1; total time=   0.0s\n",
      "[CV] END ....colsample_bytree=1, gamma=20, learning_rate=0.1; total time=   0.0s\n",
      "[CV] END ....colsample_bytree=1, gamma=20, learning_rate=0.1; total time=   0.0s\n",
      "[CV] END ....colsample_bytree=1, gamma=20, learning_rate=0.1; total time=   0.0s\n",
      "[CV] END ..colsample_bytree=1, gamma=20, learning_rate=0.105; total time=   0.0s\n",
      "[CV] END ..colsample_bytree=1, gamma=20, learning_rate=0.105; total time=   0.0s\n",
      "[CV] END ..colsample_bytree=1, gamma=20, learning_rate=0.105; total time=   0.0s\n",
      "[CV] END ..colsample_bytree=1, gamma=20, learning_rate=0.105; total time=   0.0s\n",
      "[CV] END ..colsample_bytree=1, gamma=20, learning_rate=0.105; total time=   0.0s\n",
      "[CV] END ...colsample_bytree=1, gamma=20, learning_rate=0.11; total time=   0.0s\n",
      "[CV] END ...colsample_bytree=1, gamma=20, learning_rate=0.11; total time=   0.0s\n",
      "[CV] END ...colsample_bytree=1, gamma=20, learning_rate=0.11; total time=   0.0s\n",
      "[CV] END ...colsample_bytree=1, gamma=20, learning_rate=0.11; total time=   0.0s\n",
      "[CV] END ...colsample_bytree=1, gamma=20, learning_rate=0.11; total time=   0.0s\n",
      "[CV] END ..colsample_bytree=1, gamma=20, learning_rate=0.115; total time=   0.0s\n",
      "[CV] END ..colsample_bytree=1, gamma=20, learning_rate=0.115; total time=   0.0s\n",
      "[CV] END ..colsample_bytree=1, gamma=20, learning_rate=0.115; total time=   0.0s\n",
      "[CV] END ..colsample_bytree=1, gamma=20, learning_rate=0.115; total time=   0.0s\n",
      "[CV] END ..colsample_bytree=1, gamma=20, learning_rate=0.115; total time=   0.0s\n",
      "[CV] END ...colsample_bytree=1, gamma=20, learning_rate=0.12; total time=   0.0s\n",
      "[CV] END ...colsample_bytree=1, gamma=20, learning_rate=0.12; total time=   0.0s\n",
      "[CV] END ...colsample_bytree=1, gamma=20, learning_rate=0.12; total time=   0.0s\n",
      "[CV] END ...colsample_bytree=1, gamma=20, learning_rate=0.12; total time=   0.0s\n",
      "[CV] END ...colsample_bytree=1, gamma=20, learning_rate=0.12; total time=   0.0s\n",
      "[CV] END ..colsample_bytree=1, gamma=20, learning_rate=0.125; total time=   0.0s\n",
      "[CV] END ..colsample_bytree=1, gamma=20, learning_rate=0.125; total time=   0.0s\n",
      "[CV] END ..colsample_bytree=1, gamma=20, learning_rate=0.125; total time=   0.0s\n",
      "[CV] END ..colsample_bytree=1, gamma=20, learning_rate=0.125; total time=   0.0s\n",
      "[CV] END ..colsample_bytree=1, gamma=20, learning_rate=0.125; total time=   0.0s\n",
      "[CV] END ...colsample_bytree=1, gamma=20, learning_rate=0.13; total time=   0.0s\n",
      "[CV] END ...colsample_bytree=1, gamma=20, learning_rate=0.13; total time=   0.0s\n",
      "[CV] END ...colsample_bytree=1, gamma=20, learning_rate=0.13; total time=   0.0s\n",
      "[CV] END ...colsample_bytree=1, gamma=20, learning_rate=0.13; total time=   0.0s\n",
      "[CV] END ...colsample_bytree=1, gamma=20, learning_rate=0.13; total time=   0.0s\n",
      "[CV] END ..colsample_bytree=1, gamma=20, learning_rate=0.135; total time=   0.0s\n",
      "[CV] END ..colsample_bytree=1, gamma=20, learning_rate=0.135; total time=   0.0s\n",
      "[CV] END ..colsample_bytree=1, gamma=20, learning_rate=0.135; total time=   0.0s\n",
      "[CV] END ..colsample_bytree=1, gamma=20, learning_rate=0.135; total time=   0.0s\n",
      "[CV] END ..colsample_bytree=1, gamma=20, learning_rate=0.135; total time=   0.0s\n",
      "Mejores parámetros: {'colsample_bytree': 0.5, 'gamma': 0, 'learning_rate': 0.12}\n",
      "Mejor score RMSE: 1511.0065836375218\n"
     ]
    }
   ],
   "source": [
    "from sklearn.model_selection import GridSearchCV\n",
    "\n",
    "# Definición del modelo base\n",
    "xgb_model = XGBRegressor(objective='reg:squarederror', n_estimators=100, random_state=42)\n",
    "\n",
    "# Definición de la cuadrícula de parámetros\n",
    "param_grid = {\n",
    "    'learning_rate': [0.10,0.105,0.11,0.115,0.12,0.125,0.13,0.135],\n",
    "    'gamma': [0, 20],\n",
    "    'colsample_bytree': [0.25, 0.5, 1]\n",
    "}\n",
    "\n",
    "# Configuración de GridSearchCV\n",
    "grid_search = GridSearchCV(estimator=xgb_model, param_grid=param_grid, cv=5, scoring='neg_mean_squared_error', verbose=2)\n",
    "\n",
    "# Ejecución de la búsqueda en cuadrícula\n",
    "grid_search.fit(X_train, y_train)\n",
    "\n",
    "# Mejores parámetros y mejor score\n",
    "print(\"Mejores parámetros:\", grid_search.best_params_)\n",
    "print(\"Mejor score RMSE:\", np.sqrt(-grid_search.best_score_))"
   ]
  },
  {
   "cell_type": "markdown",
   "metadata": {},
   "source": [
    "Los mejores hiperparámetros encontrdos en la busqueda de mediante grilla corresponden a:\n",
    "\n",
    "Learning Rate = 0.12\n",
    "Gamma = 0\n",
    "Colsample by tree = 0.5"
   ]
  },
  {
   "cell_type": "code",
   "execution_count": 25,
   "metadata": {},
   "outputs": [
    {
     "name": "stdout",
     "output_type": "stream",
     "text": [
      "RMSE en el conjunto de prueba: 1545.9614714583167\n",
      "MAE en el conjunto de prueba: 1137.2620827055969\n"
     ]
    }
   ],
   "source": [
    "# Configuración del modelo XGBoost\n",
    "xgb_model = XGBRegressor(\n",
    "    objective='reg:squarederror',\n",
    "    n_estimators=100,\n",
    "    learning_rate=0.12,\n",
    "    gamma=0,\n",
    "    colsample_bytree=0.5,\n",
    "    random_state=42\n",
    ")\n",
    "\n",
    "# Entrenamiento del modelo\n",
    "xgb_model.fit(X_train, y_train)\n",
    "\n",
    "# Predicción y evaluación\n",
    "y_pred = xgb_model.predict(X_test)\n",
    "rmse_xgb = np.sqrt(mean_squared_error(y_test, y_pred))\n",
    "mae_xgb = mean_absolute_error(y_test, y_pred)  # Calcular MAE\n",
    "\n",
    "print(f'RMSE en el conjunto de prueba: {rmse_xgb}')\n",
    "print(f'MAE en el conjunto de prueba: {mae_xgb}')  # Imprimir MAE"
   ]
  },
  {
   "cell_type": "markdown",
   "metadata": {},
   "source": [
    "Podemos observar que existe una disminución del error marginal con respecto a la etapa previa del modelo XGBoost con hiperoarámetros encontrados secuencialmente. Alcanzando un RMSE en testing de 1545.96 y un MAE de 1137.26. "
   ]
  },
  {
   "cell_type": "markdown",
   "metadata": {},
   "source": [
    "### Punto 8 - Comparación y análisis de resultados\n",
    "En la celda 8 comparen los resultados obtenidos de los diferentes modelos (random forest y XGBoost) y comenten las ventajas del mejor modelo y las desventajas del modelo con el menor desempeño."
   ]
  },
  {
   "cell_type": "code",
   "execution_count": 26,
   "metadata": {},
   "outputs": [
    {
     "data": {
      "application/vnd.plotly.v1+json": {
       "config": {
        "plotlyServerURL": "https://plot.ly"
       },
       "data": [
        {
         "marker": {
          "color": "indianred"
         },
         "name": "Random Forest",
         "text": [
          "Random Forest",
          "Random Forest"
         ],
         "textfont": {
          "color": "black"
         },
         "textposition": "outside",
         "texttemplate": "%{y:.2f}",
         "type": "bar",
         "x": [
          "RMSE",
          "MAE"
         ],
         "y": [
          1558.7573540547864,
          1146.5413893753007
         ]
        },
        {
         "marker": {
          "color": "lightblue"
         },
         "name": "XGBoost",
         "text": [
          "XGBoost",
          "XGBoost"
         ],
         "textfont": {
          "color": "black"
         },
         "textposition": "outside",
         "texttemplate": "%{y:.2f}",
         "type": "bar",
         "x": [
          "RMSE",
          "MAE"
         ],
         "y": [
          1545.9614714583167,
          1137.2620827055969
         ]
        }
       ],
       "layout": {
        "bargap": 0.15,
        "bargroupgap": 0.1,
        "barmode": "group",
        "template": {
         "data": {
          "bar": [
           {
            "error_x": {
             "color": "#2a3f5f"
            },
            "error_y": {
             "color": "#2a3f5f"
            },
            "marker": {
             "line": {
              "color": "#E5ECF6",
              "width": 0.5
             },
             "pattern": {
              "fillmode": "overlay",
              "size": 10,
              "solidity": 0.2
             }
            },
            "type": "bar"
           }
          ],
          "barpolar": [
           {
            "marker": {
             "line": {
              "color": "#E5ECF6",
              "width": 0.5
             },
             "pattern": {
              "fillmode": "overlay",
              "size": 10,
              "solidity": 0.2
             }
            },
            "type": "barpolar"
           }
          ],
          "carpet": [
           {
            "aaxis": {
             "endlinecolor": "#2a3f5f",
             "gridcolor": "white",
             "linecolor": "white",
             "minorgridcolor": "white",
             "startlinecolor": "#2a3f5f"
            },
            "baxis": {
             "endlinecolor": "#2a3f5f",
             "gridcolor": "white",
             "linecolor": "white",
             "minorgridcolor": "white",
             "startlinecolor": "#2a3f5f"
            },
            "type": "carpet"
           }
          ],
          "choropleth": [
           {
            "colorbar": {
             "outlinewidth": 0,
             "ticks": ""
            },
            "type": "choropleth"
           }
          ],
          "contour": [
           {
            "colorbar": {
             "outlinewidth": 0,
             "ticks": ""
            },
            "colorscale": [
             [
              0,
              "#0d0887"
             ],
             [
              0.1111111111111111,
              "#46039f"
             ],
             [
              0.2222222222222222,
              "#7201a8"
             ],
             [
              0.3333333333333333,
              "#9c179e"
             ],
             [
              0.4444444444444444,
              "#bd3786"
             ],
             [
              0.5555555555555556,
              "#d8576b"
             ],
             [
              0.6666666666666666,
              "#ed7953"
             ],
             [
              0.7777777777777778,
              "#fb9f3a"
             ],
             [
              0.8888888888888888,
              "#fdca26"
             ],
             [
              1,
              "#f0f921"
             ]
            ],
            "type": "contour"
           }
          ],
          "contourcarpet": [
           {
            "colorbar": {
             "outlinewidth": 0,
             "ticks": ""
            },
            "type": "contourcarpet"
           }
          ],
          "heatmap": [
           {
            "colorbar": {
             "outlinewidth": 0,
             "ticks": ""
            },
            "colorscale": [
             [
              0,
              "#0d0887"
             ],
             [
              0.1111111111111111,
              "#46039f"
             ],
             [
              0.2222222222222222,
              "#7201a8"
             ],
             [
              0.3333333333333333,
              "#9c179e"
             ],
             [
              0.4444444444444444,
              "#bd3786"
             ],
             [
              0.5555555555555556,
              "#d8576b"
             ],
             [
              0.6666666666666666,
              "#ed7953"
             ],
             [
              0.7777777777777778,
              "#fb9f3a"
             ],
             [
              0.8888888888888888,
              "#fdca26"
             ],
             [
              1,
              "#f0f921"
             ]
            ],
            "type": "heatmap"
           }
          ],
          "heatmapgl": [
           {
            "colorbar": {
             "outlinewidth": 0,
             "ticks": ""
            },
            "colorscale": [
             [
              0,
              "#0d0887"
             ],
             [
              0.1111111111111111,
              "#46039f"
             ],
             [
              0.2222222222222222,
              "#7201a8"
             ],
             [
              0.3333333333333333,
              "#9c179e"
             ],
             [
              0.4444444444444444,
              "#bd3786"
             ],
             [
              0.5555555555555556,
              "#d8576b"
             ],
             [
              0.6666666666666666,
              "#ed7953"
             ],
             [
              0.7777777777777778,
              "#fb9f3a"
             ],
             [
              0.8888888888888888,
              "#fdca26"
             ],
             [
              1,
              "#f0f921"
             ]
            ],
            "type": "heatmapgl"
           }
          ],
          "histogram": [
           {
            "marker": {
             "pattern": {
              "fillmode": "overlay",
              "size": 10,
              "solidity": 0.2
             }
            },
            "type": "histogram"
           }
          ],
          "histogram2d": [
           {
            "colorbar": {
             "outlinewidth": 0,
             "ticks": ""
            },
            "colorscale": [
             [
              0,
              "#0d0887"
             ],
             [
              0.1111111111111111,
              "#46039f"
             ],
             [
              0.2222222222222222,
              "#7201a8"
             ],
             [
              0.3333333333333333,
              "#9c179e"
             ],
             [
              0.4444444444444444,
              "#bd3786"
             ],
             [
              0.5555555555555556,
              "#d8576b"
             ],
             [
              0.6666666666666666,
              "#ed7953"
             ],
             [
              0.7777777777777778,
              "#fb9f3a"
             ],
             [
              0.8888888888888888,
              "#fdca26"
             ],
             [
              1,
              "#f0f921"
             ]
            ],
            "type": "histogram2d"
           }
          ],
          "histogram2dcontour": [
           {
            "colorbar": {
             "outlinewidth": 0,
             "ticks": ""
            },
            "colorscale": [
             [
              0,
              "#0d0887"
             ],
             [
              0.1111111111111111,
              "#46039f"
             ],
             [
              0.2222222222222222,
              "#7201a8"
             ],
             [
              0.3333333333333333,
              "#9c179e"
             ],
             [
              0.4444444444444444,
              "#bd3786"
             ],
             [
              0.5555555555555556,
              "#d8576b"
             ],
             [
              0.6666666666666666,
              "#ed7953"
             ],
             [
              0.7777777777777778,
              "#fb9f3a"
             ],
             [
              0.8888888888888888,
              "#fdca26"
             ],
             [
              1,
              "#f0f921"
             ]
            ],
            "type": "histogram2dcontour"
           }
          ],
          "mesh3d": [
           {
            "colorbar": {
             "outlinewidth": 0,
             "ticks": ""
            },
            "type": "mesh3d"
           }
          ],
          "parcoords": [
           {
            "line": {
             "colorbar": {
              "outlinewidth": 0,
              "ticks": ""
             }
            },
            "type": "parcoords"
           }
          ],
          "pie": [
           {
            "automargin": true,
            "type": "pie"
           }
          ],
          "scatter": [
           {
            "fillpattern": {
             "fillmode": "overlay",
             "size": 10,
             "solidity": 0.2
            },
            "type": "scatter"
           }
          ],
          "scatter3d": [
           {
            "line": {
             "colorbar": {
              "outlinewidth": 0,
              "ticks": ""
             }
            },
            "marker": {
             "colorbar": {
              "outlinewidth": 0,
              "ticks": ""
             }
            },
            "type": "scatter3d"
           }
          ],
          "scattercarpet": [
           {
            "marker": {
             "colorbar": {
              "outlinewidth": 0,
              "ticks": ""
             }
            },
            "type": "scattercarpet"
           }
          ],
          "scattergeo": [
           {
            "marker": {
             "colorbar": {
              "outlinewidth": 0,
              "ticks": ""
             }
            },
            "type": "scattergeo"
           }
          ],
          "scattergl": [
           {
            "marker": {
             "colorbar": {
              "outlinewidth": 0,
              "ticks": ""
             }
            },
            "type": "scattergl"
           }
          ],
          "scattermapbox": [
           {
            "marker": {
             "colorbar": {
              "outlinewidth": 0,
              "ticks": ""
             }
            },
            "type": "scattermapbox"
           }
          ],
          "scatterpolar": [
           {
            "marker": {
             "colorbar": {
              "outlinewidth": 0,
              "ticks": ""
             }
            },
            "type": "scatterpolar"
           }
          ],
          "scatterpolargl": [
           {
            "marker": {
             "colorbar": {
              "outlinewidth": 0,
              "ticks": ""
             }
            },
            "type": "scatterpolargl"
           }
          ],
          "scatterternary": [
           {
            "marker": {
             "colorbar": {
              "outlinewidth": 0,
              "ticks": ""
             }
            },
            "type": "scatterternary"
           }
          ],
          "surface": [
           {
            "colorbar": {
             "outlinewidth": 0,
             "ticks": ""
            },
            "colorscale": [
             [
              0,
              "#0d0887"
             ],
             [
              0.1111111111111111,
              "#46039f"
             ],
             [
              0.2222222222222222,
              "#7201a8"
             ],
             [
              0.3333333333333333,
              "#9c179e"
             ],
             [
              0.4444444444444444,
              "#bd3786"
             ],
             [
              0.5555555555555556,
              "#d8576b"
             ],
             [
              0.6666666666666666,
              "#ed7953"
             ],
             [
              0.7777777777777778,
              "#fb9f3a"
             ],
             [
              0.8888888888888888,
              "#fdca26"
             ],
             [
              1,
              "#f0f921"
             ]
            ],
            "type": "surface"
           }
          ],
          "table": [
           {
            "cells": {
             "fill": {
              "color": "#EBF0F8"
             },
             "line": {
              "color": "white"
             }
            },
            "header": {
             "fill": {
              "color": "#C8D4E3"
             },
             "line": {
              "color": "white"
             }
            },
            "type": "table"
           }
          ]
         },
         "layout": {
          "annotationdefaults": {
           "arrowcolor": "#2a3f5f",
           "arrowhead": 0,
           "arrowwidth": 1
          },
          "autotypenumbers": "strict",
          "coloraxis": {
           "colorbar": {
            "outlinewidth": 0,
            "ticks": ""
           }
          },
          "colorscale": {
           "diverging": [
            [
             0,
             "#8e0152"
            ],
            [
             0.1,
             "#c51b7d"
            ],
            [
             0.2,
             "#de77ae"
            ],
            [
             0.3,
             "#f1b6da"
            ],
            [
             0.4,
             "#fde0ef"
            ],
            [
             0.5,
             "#f7f7f7"
            ],
            [
             0.6,
             "#e6f5d0"
            ],
            [
             0.7,
             "#b8e186"
            ],
            [
             0.8,
             "#7fbc41"
            ],
            [
             0.9,
             "#4d9221"
            ],
            [
             1,
             "#276419"
            ]
           ],
           "sequential": [
            [
             0,
             "#0d0887"
            ],
            [
             0.1111111111111111,
             "#46039f"
            ],
            [
             0.2222222222222222,
             "#7201a8"
            ],
            [
             0.3333333333333333,
             "#9c179e"
            ],
            [
             0.4444444444444444,
             "#bd3786"
            ],
            [
             0.5555555555555556,
             "#d8576b"
            ],
            [
             0.6666666666666666,
             "#ed7953"
            ],
            [
             0.7777777777777778,
             "#fb9f3a"
            ],
            [
             0.8888888888888888,
             "#fdca26"
            ],
            [
             1,
             "#f0f921"
            ]
           ],
           "sequentialminus": [
            [
             0,
             "#0d0887"
            ],
            [
             0.1111111111111111,
             "#46039f"
            ],
            [
             0.2222222222222222,
             "#7201a8"
            ],
            [
             0.3333333333333333,
             "#9c179e"
            ],
            [
             0.4444444444444444,
             "#bd3786"
            ],
            [
             0.5555555555555556,
             "#d8576b"
            ],
            [
             0.6666666666666666,
             "#ed7953"
            ],
            [
             0.7777777777777778,
             "#fb9f3a"
            ],
            [
             0.8888888888888888,
             "#fdca26"
            ],
            [
             1,
             "#f0f921"
            ]
           ]
          },
          "colorway": [
           "#636efa",
           "#EF553B",
           "#00cc96",
           "#ab63fa",
           "#FFA15A",
           "#19d3f3",
           "#FF6692",
           "#B6E880",
           "#FF97FF",
           "#FECB52"
          ],
          "font": {
           "color": "#2a3f5f"
          },
          "geo": {
           "bgcolor": "white",
           "lakecolor": "white",
           "landcolor": "#E5ECF6",
           "showlakes": true,
           "showland": true,
           "subunitcolor": "white"
          },
          "hoverlabel": {
           "align": "left"
          },
          "hovermode": "closest",
          "mapbox": {
           "style": "light"
          },
          "paper_bgcolor": "white",
          "plot_bgcolor": "#E5ECF6",
          "polar": {
           "angularaxis": {
            "gridcolor": "white",
            "linecolor": "white",
            "ticks": ""
           },
           "bgcolor": "#E5ECF6",
           "radialaxis": {
            "gridcolor": "white",
            "linecolor": "white",
            "ticks": ""
           }
          },
          "scene": {
           "xaxis": {
            "backgroundcolor": "#E5ECF6",
            "gridcolor": "white",
            "gridwidth": 2,
            "linecolor": "white",
            "showbackground": true,
            "ticks": "",
            "zerolinecolor": "white"
           },
           "yaxis": {
            "backgroundcolor": "#E5ECF6",
            "gridcolor": "white",
            "gridwidth": 2,
            "linecolor": "white",
            "showbackground": true,
            "ticks": "",
            "zerolinecolor": "white"
           },
           "zaxis": {
            "backgroundcolor": "#E5ECF6",
            "gridcolor": "white",
            "gridwidth": 2,
            "linecolor": "white",
            "showbackground": true,
            "ticks": "",
            "zerolinecolor": "white"
           }
          },
          "shapedefaults": {
           "line": {
            "color": "#2a3f5f"
           }
          },
          "ternary": {
           "aaxis": {
            "gridcolor": "white",
            "linecolor": "white",
            "ticks": ""
           },
           "baxis": {
            "gridcolor": "white",
            "linecolor": "white",
            "ticks": ""
           },
           "bgcolor": "#E5ECF6",
           "caxis": {
            "gridcolor": "white",
            "linecolor": "white",
            "ticks": ""
           }
          },
          "title": {
           "x": 0.05
          },
          "xaxis": {
           "automargin": true,
           "gridcolor": "white",
           "linecolor": "white",
           "ticks": "",
           "title": {
            "standoff": 15
           },
           "zerolinecolor": "white",
           "zerolinewidth": 2
          },
          "yaxis": {
           "automargin": true,
           "gridcolor": "white",
           "linecolor": "white",
           "ticks": "",
           "title": {
            "standoff": 15
           },
           "zerolinecolor": "white",
           "zerolinewidth": 2
          }
         }
        },
        "title": {
         "text": "Comparación de RMSE y MAE entre Random Forest y XGBoost"
        },
        "xaxis": {
         "title": {
          "text": "Métrica"
         }
        },
        "yaxis": {
         "title": {
          "text": "Valor"
         }
        }
       }
      }
     },
     "metadata": {},
     "output_type": "display_data"
    }
   ],
   "source": [
    "# Celda 8\n",
    "import plotly.graph_objects as go\n",
    "# Creación de gráficos\n",
    "# Creación de gráficos\n",
    "fig = go.Figure(data=[\n",
    "    go.Bar(name='Random Forest', x=['RMSE', 'MAE'], y=[rmse_rf, mae_rf], marker_color='indianred',\n",
    "           text=['Random Forest', 'Random Forest'], textposition='inside', textfont=dict(color='white')),\n",
    "    go.Bar(name='XGBoost', x=['RMSE', 'MAE'], y=[rmse_xgb, mae_xgb], marker_color='lightblue',\n",
    "           text=['XGBoost', 'XGBoost'], textposition='inside', textfont=dict(color='white'))\n",
    "])\n",
    "\n",
    "# Actualización de diseño para hacerlo más legible\n",
    "fig.update_layout(\n",
    "    title='Comparación de RMSE y MAE entre Random Forest y XGBoost',\n",
    "    xaxis_title='Métrica',\n",
    "    yaxis_title='Valor',\n",
    "    barmode='group',\n",
    "    bargap=0.15,  # Ajusta el espacio entre las barras de diferentes grupos\n",
    "    bargroupgap=0.1  # Ajusta el espacio entre barras del mismo grupo\n",
    ")\n",
    "\n",
    "# Añadir etiquetas con valores encima de cada barra\n",
    "fig.update_traces(texttemplate='%{y:.2f}', textposition='outside', textfont=dict(color='black'))\n",
    "\n",
    "# Mostrar gráfico\n",
    "fig.show()"
   ]
  },
  {
   "cell_type": "code",
   "execution_count": 28,
   "metadata": {},
   "outputs": [
    {
     "data": {
      "image/png": "[encoded data removed]",
      "text/plain": [
       "<Figure size 640x480 with 1 Axes>"
      ]
     },
     "metadata": {},
     "output_type": "display_data"
    }
   ],
   "source": [
    "metrics = ['RMSE', 'MAE']\n",
    "\n",
    "bar_width = 0.35\n",
    "index = range(len(metrics))\n",
    "\n",
    "fig, ax = plt.subplots()\n",
    "\n",
    "bar_rf = ax.bar(index, [rmse_rf, mae_rf], bar_width, label='Random Forest', color='indianred')\n",
    "bar_xgb = ax.bar([p + bar_width for p in index], [rmse_xgb, mae_xgb], bar_width, label='XGBoost', color='lightblue')\n",
    "\n",
    "# Etiquetas de los ejes y título\n",
    "ax.set_xlabel('Métrica')\n",
    "ax.set_ylabel('Valor')\n",
    "ax.set_title('Comparación de RMSE y MAE entre Random Forest y XGBoost')\n",
    "ax.set_xticks([p + bar_width / 2 for p in index])\n",
    "ax.set_xticklabels(metrics)\n",
    "\n",
    "# Añadir etiquetas con valores redondeados a 2 decimales encima de cada barra\n",
    "def add_labels(bars):\n",
    "    for bar in bars:\n",
    "        height = bar.get_height()\n",
    "        ax.annotate('{:.2f}'.format(height),\n",
    "                    xy=(bar.get_x() + bar.get_width() / 2, height),\n",
    "                    xytext=(0, 3),  # 3 points vertical offset\n",
    "                    textcoords=\"offset points\",\n",
    "                    ha='center', va='bottom')\n",
    "\n",
    "add_labels(bar_rf)\n",
    "add_labels(bar_xgb)\n",
    "\n",
    "# Añadir leyenda\n",
    "ax.legend()\n",
    "\n",
    "# Mostrar gráfico\n",
    "plt.show()"
   ]
  },
  {
   "cell_type": "markdown",
   "metadata": {},
   "source": [
    "En esta gráfica podemos observar las diferencias entre los modelos Random Forest y XGBoost. Podemos observar que tanto en el RMSE, como en el MAE el modelo XGBoost tiene un mejor desempeño en métricas. A pesar de esto, se puede también concluir que las diferencias entre los modelos no aparenta ser muy alta. En concreto la diferencia en el error absoluto medio es de alrededor de 9.28, que sobre el error global del XGBoost representa un 0.81%.\n",
    "\n",
    "Una de las razones por las cuales el XGBoost puede tener un mejor desempeño que el Random Forest es quiza su capacidad de regularización que pueden ayudar a prevenir el sobreajuste.\n",
    "\n",
    "Por otro lado, aunque Random Forest puede capturar relaciones no lineales en los datos, su capacidad para modelar relaciones complejas es limitada en comparación con XGBoost. XGBoost utiliza una técnica de boosting que combina árboles débiles de manera secuencial, lo que le permite capturar patrones más complejos y sutiles en los datos al basarse de los errores previos para focalizar la atención de los modelo subsiguientes."
   ]
  }
 ],
 "metadata": {
  "kernelspec": {
   "display_name": "Python 3 (ipykernel)",
   "language": "python",
   "name": "python3"
  },
  "language_info": {
   "codemirror_mode": {
    "name": "ipython",
    "version": 3
   },
   "file_extension": ".py",
   "mimetype": "text/x-python",
   "name": "python",
   "nbconvert_exporter": "python",
   "pygments_lexer": "ipython3",
   "version": "3.9.12"
  }
 },
 "nbformat": 4,
 "nbformat_minor": 4
}
